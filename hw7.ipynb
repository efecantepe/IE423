{
 "cells": [
  {
   "cell_type": "code",
   "execution_count": 1,
   "id": "initial_id",
   "metadata": {
    "collapsed": true,
    "ExecuteTime": {
     "end_time": "2024-07-21T22:14:27.305230600Z",
     "start_time": "2024-07-21T22:14:10.672154700Z"
    }
   },
   "outputs": [
    {
     "data": {
      "text/plain": "   User_ID Product_ID Gender   Age  Occupation City_Category  \\\n0  1000001  P00069042      F  0-17          10             A   \n1  1000001  P00248942      F  0-17          10             A   \n2  1000001  P00087842      F  0-17          10             A   \n3  1000001  P00085442      F  0-17          10             A   \n4  1000002  P00285442      M   55+          16             C   \n\n  Stay_In_Current_City_Years  Marital_Status  Product_Category_1  \\\n0                          2               0                   3   \n1                          2               0                   1   \n2                          2               0                  12   \n3                          2               0                  12   \n4                         4+               0                   8   \n\n   Product_Category_2  Product_Category_3  Purchase  \n0                 NaN                 NaN      8370  \n1                 6.0                14.0     15200  \n2                 NaN                 NaN      1422  \n3                14.0                 NaN      1057  \n4                 NaN                 NaN      7969  ",
      "text/html": "<div>\n<style scoped>\n    .dataframe tbody tr th:only-of-type {\n        vertical-align: middle;\n    }\n\n    .dataframe tbody tr th {\n        vertical-align: top;\n    }\n\n    .dataframe thead th {\n        text-align: right;\n    }\n</style>\n<table border=\"1\" class=\"dataframe\">\n  <thead>\n    <tr style=\"text-align: right;\">\n      <th></th>\n      <th>User_ID</th>\n      <th>Product_ID</th>\n      <th>Gender</th>\n      <th>Age</th>\n      <th>Occupation</th>\n      <th>City_Category</th>\n      <th>Stay_In_Current_City_Years</th>\n      <th>Marital_Status</th>\n      <th>Product_Category_1</th>\n      <th>Product_Category_2</th>\n      <th>Product_Category_3</th>\n      <th>Purchase</th>\n    </tr>\n  </thead>\n  <tbody>\n    <tr>\n      <th>0</th>\n      <td>1000001</td>\n      <td>P00069042</td>\n      <td>F</td>\n      <td>0-17</td>\n      <td>10</td>\n      <td>A</td>\n      <td>2</td>\n      <td>0</td>\n      <td>3</td>\n      <td>NaN</td>\n      <td>NaN</td>\n      <td>8370</td>\n    </tr>\n    <tr>\n      <th>1</th>\n      <td>1000001</td>\n      <td>P00248942</td>\n      <td>F</td>\n      <td>0-17</td>\n      <td>10</td>\n      <td>A</td>\n      <td>2</td>\n      <td>0</td>\n      <td>1</td>\n      <td>6.0</td>\n      <td>14.0</td>\n      <td>15200</td>\n    </tr>\n    <tr>\n      <th>2</th>\n      <td>1000001</td>\n      <td>P00087842</td>\n      <td>F</td>\n      <td>0-17</td>\n      <td>10</td>\n      <td>A</td>\n      <td>2</td>\n      <td>0</td>\n      <td>12</td>\n      <td>NaN</td>\n      <td>NaN</td>\n      <td>1422</td>\n    </tr>\n    <tr>\n      <th>3</th>\n      <td>1000001</td>\n      <td>P00085442</td>\n      <td>F</td>\n      <td>0-17</td>\n      <td>10</td>\n      <td>A</td>\n      <td>2</td>\n      <td>0</td>\n      <td>12</td>\n      <td>14.0</td>\n      <td>NaN</td>\n      <td>1057</td>\n    </tr>\n    <tr>\n      <th>4</th>\n      <td>1000002</td>\n      <td>P00285442</td>\n      <td>M</td>\n      <td>55+</td>\n      <td>16</td>\n      <td>C</td>\n      <td>4+</td>\n      <td>0</td>\n      <td>8</td>\n      <td>NaN</td>\n      <td>NaN</td>\n      <td>7969</td>\n    </tr>\n  </tbody>\n</table>\n</div>"
     },
     "execution_count": 1,
     "metadata": {},
     "output_type": "execute_result"
    }
   ],
   "source": [
    "import pandas as pd\n",
    "import matplotlib as plt\n",
    "from sklearn.preprocessing import scale\n",
    "df = pd.read_csv(\"train.csv\")\n",
    "# from google.colab import drive\n",
    "# \n",
    "# drive.mount('/content/drive')\n",
    "# df = pd.read_csv(\"/content/drive/My Drive/train.csv\")\n",
    "\n",
    "df.head()"
   ]
  },
  {
   "cell_type": "code",
   "execution_count": 5,
   "outputs": [
    {
     "data": {
      "text/plain": "   level_0  User_ID Product_ID Gender    Age  Occupation City_Category  \\\n0        0  1000001  P00248942      F   0-17          10             A   \n1        1  1000004  P00184942      M  46-50           7             B   \n2        2  1000005  P00145042      M  26-35          20             A   \n3        3  1000006  P00231342      F  51-55           9             A   \n4        4  1000006   P0096642      F  51-55           9             A   \n\n  Stay_In_Current_City_Years  Marital_Status  Product_Category_1  \\\n0                          2               0                   1   \n1                          2               1                   1   \n2                          1               1                   1   \n3                          1               0                   5   \n4                          1               0                   2   \n\n   Product_Category_2  Product_Category_3  Purchase  \n0                 6.0                14.0     15200  \n1                 8.0                17.0     19215  \n2                 2.0                 5.0     15665  \n3                 8.0                14.0      5378  \n4                 3.0                 4.0     13055  ",
      "text/html": "<div>\n<style scoped>\n    .dataframe tbody tr th:only-of-type {\n        vertical-align: middle;\n    }\n\n    .dataframe tbody tr th {\n        vertical-align: top;\n    }\n\n    .dataframe thead th {\n        text-align: right;\n    }\n</style>\n<table border=\"1\" class=\"dataframe\">\n  <thead>\n    <tr style=\"text-align: right;\">\n      <th></th>\n      <th>level_0</th>\n      <th>User_ID</th>\n      <th>Product_ID</th>\n      <th>Gender</th>\n      <th>Age</th>\n      <th>Occupation</th>\n      <th>City_Category</th>\n      <th>Stay_In_Current_City_Years</th>\n      <th>Marital_Status</th>\n      <th>Product_Category_1</th>\n      <th>Product_Category_2</th>\n      <th>Product_Category_3</th>\n      <th>Purchase</th>\n    </tr>\n  </thead>\n  <tbody>\n    <tr>\n      <th>0</th>\n      <td>0</td>\n      <td>1000001</td>\n      <td>P00248942</td>\n      <td>F</td>\n      <td>0-17</td>\n      <td>10</td>\n      <td>A</td>\n      <td>2</td>\n      <td>0</td>\n      <td>1</td>\n      <td>6.0</td>\n      <td>14.0</td>\n      <td>15200</td>\n    </tr>\n    <tr>\n      <th>1</th>\n      <td>1</td>\n      <td>1000004</td>\n      <td>P00184942</td>\n      <td>M</td>\n      <td>46-50</td>\n      <td>7</td>\n      <td>B</td>\n      <td>2</td>\n      <td>1</td>\n      <td>1</td>\n      <td>8.0</td>\n      <td>17.0</td>\n      <td>19215</td>\n    </tr>\n    <tr>\n      <th>2</th>\n      <td>2</td>\n      <td>1000005</td>\n      <td>P00145042</td>\n      <td>M</td>\n      <td>26-35</td>\n      <td>20</td>\n      <td>A</td>\n      <td>1</td>\n      <td>1</td>\n      <td>1</td>\n      <td>2.0</td>\n      <td>5.0</td>\n      <td>15665</td>\n    </tr>\n    <tr>\n      <th>3</th>\n      <td>3</td>\n      <td>1000006</td>\n      <td>P00231342</td>\n      <td>F</td>\n      <td>51-55</td>\n      <td>9</td>\n      <td>A</td>\n      <td>1</td>\n      <td>0</td>\n      <td>5</td>\n      <td>8.0</td>\n      <td>14.0</td>\n      <td>5378</td>\n    </tr>\n    <tr>\n      <th>4</th>\n      <td>4</td>\n      <td>1000006</td>\n      <td>P0096642</td>\n      <td>F</td>\n      <td>51-55</td>\n      <td>9</td>\n      <td>A</td>\n      <td>1</td>\n      <td>0</td>\n      <td>2</td>\n      <td>3.0</td>\n      <td>4.0</td>\n      <td>13055</td>\n    </tr>\n  </tbody>\n</table>\n</div>"
     },
     "execution_count": 5,
     "metadata": {},
     "output_type": "execute_result"
    }
   ],
   "source": [
    "df = df.dropna().reset_index().drop(columns=[\"index\"])\n",
    "df.head()"
   ],
   "metadata": {
    "collapsed": false,
    "ExecuteTime": {
     "end_time": "2024-07-21T23:22:06.467607500Z",
     "start_time": "2024-07-21T23:22:06.325841600Z"
    }
   },
   "id": "d8d4d540e7016108"
  },
  {
   "cell_type": "markdown",
   "source": [
    "## Now we will do the grouping"
   ],
   "metadata": {
    "collapsed": false
   },
   "id": "fd5722c203b6af7"
  },
  {
   "cell_type": "code",
   "execution_count": 8,
   "outputs": [
    {
     "data": {
      "text/plain": "User_ID\n1000001    [P00248942, P00085942, P00102642, P00110842, P...\n1000002    [P00289342, P00034742, P00177442, P00116842, P...\n1000003    [P00128042, P00112142, P00182742, P00110742, P...\n1000004    [P00184942, P00046742, P00329542, P00114942, P...\n1000005    [P00145042, P00324442, P00036842, P00173342, P...\n                                 ...                        \n1006036    [P00294442, P00118342, P00243942, P00156742, P...\n1006037    [P00177442, P00087042, P00025442, P00086442, P...\n1006038                    [P00034742, P00086042, P00109542]\n1006039    [P00088542, P00254242, P00202742, P00085942, P...\n1006040    [P00148642, P00059442, P00024142, P00192042, P...\nName: Product_ID, Length: 5870, dtype: object"
     },
     "execution_count": 8,
     "metadata": {},
     "output_type": "execute_result"
    }
   ],
   "source": [
    "dfRetList = df.groupby(\"User_ID\")[\"Product_ID\"].apply(list)\n",
    "dfRetList"
   ],
   "metadata": {
    "collapsed": false,
    "ExecuteTime": {
     "end_time": "2024-07-21T23:24:41.186949Z",
     "start_time": "2024-07-21T23:24:40.979895100Z"
    }
   },
   "id": "bb7cea16f2721569"
  },
  {
   "cell_type": "markdown",
   "source": [
    "## We will apply the method association rule mining"
   ],
   "metadata": {
    "collapsed": false
   },
   "id": "22014674933493d2"
  },
  {
   "cell_type": "code",
   "execution_count": 9,
   "outputs": [
    {
     "data": {
      "text/plain": "      P00000142  P00000242  P00000642  P00001042  P00001142  P00001542  \\\n0          True      False      False      False      False      False   \n1         False      False      False      False      False      False   \n2         False      False      False      False      False      False   \n3         False      False      False      False      False      False   \n4         False      False      False      False      False      False   \n...         ...        ...        ...        ...        ...        ...   \n5865      False      False       True      False       True      False   \n5866      False      False      False      False      False      False   \n5867      False      False      False      False      False      False   \n5868      False      False      False      False      False      False   \n5869       True      False      False      False      False      False   \n\n      P00002142  P00002242  P00003442  P00004242  ...  P0096442  P0096542  \\\n0         False      False      False      False  ...     False      True   \n1         False      False      False      False  ...     False     False   \n2         False      False      False      False  ...     False     False   \n3         False      False      False      False  ...     False     False   \n4         False      False       True      False  ...     False     False   \n...         ...        ...        ...        ...  ...       ...       ...   \n5865      False      False       True      False  ...     False      True   \n5866      False      False      False      False  ...     False     False   \n5867      False      False      False      False  ...     False     False   \n5868      False      False      False      False  ...     False     False   \n5869      False      False      False      False  ...     False     False   \n\n      P0096642  P0096742  P0096842  P0097342  P0099042  P0099742  P0099842  \\\n0        False     False     False     False     False     False     False   \n1        False     False     False     False     False     False     False   \n2        False     False     False     False     False     False     False   \n3        False     False     False     False     False     False     False   \n4        False     False     False     False     False     False     False   \n...        ...       ...       ...       ...       ...       ...       ...   \n5865     False      True     False      True     False     False     False   \n5866     False     False     False     False     False     False     False   \n5867     False     False     False     False     False     False     False   \n5868     False     False     False     False     False     False     False   \n5869     False     False     False     False     False     False     False   \n\n      P0099942  \n0        False  \n1        False  \n2        False  \n3        False  \n4        False  \n...        ...  \n5865     False  \n5866     False  \n5867     False  \n5868     False  \n5869     False  \n\n[5870 rows x 528 columns]",
      "text/html": "<div>\n<style scoped>\n    .dataframe tbody tr th:only-of-type {\n        vertical-align: middle;\n    }\n\n    .dataframe tbody tr th {\n        vertical-align: top;\n    }\n\n    .dataframe thead th {\n        text-align: right;\n    }\n</style>\n<table border=\"1\" class=\"dataframe\">\n  <thead>\n    <tr style=\"text-align: right;\">\n      <th></th>\n      <th>P00000142</th>\n      <th>P00000242</th>\n      <th>P00000642</th>\n      <th>P00001042</th>\n      <th>P00001142</th>\n      <th>P00001542</th>\n      <th>P00002142</th>\n      <th>P00002242</th>\n      <th>P00003442</th>\n      <th>P00004242</th>\n      <th>...</th>\n      <th>P0096442</th>\n      <th>P0096542</th>\n      <th>P0096642</th>\n      <th>P0096742</th>\n      <th>P0096842</th>\n      <th>P0097342</th>\n      <th>P0099042</th>\n      <th>P0099742</th>\n      <th>P0099842</th>\n      <th>P0099942</th>\n    </tr>\n  </thead>\n  <tbody>\n    <tr>\n      <th>0</th>\n      <td>True</td>\n      <td>False</td>\n      <td>False</td>\n      <td>False</td>\n      <td>False</td>\n      <td>False</td>\n      <td>False</td>\n      <td>False</td>\n      <td>False</td>\n      <td>False</td>\n      <td>...</td>\n      <td>False</td>\n      <td>True</td>\n      <td>False</td>\n      <td>False</td>\n      <td>False</td>\n      <td>False</td>\n      <td>False</td>\n      <td>False</td>\n      <td>False</td>\n      <td>False</td>\n    </tr>\n    <tr>\n      <th>1</th>\n      <td>False</td>\n      <td>False</td>\n      <td>False</td>\n      <td>False</td>\n      <td>False</td>\n      <td>False</td>\n      <td>False</td>\n      <td>False</td>\n      <td>False</td>\n      <td>False</td>\n      <td>...</td>\n      <td>False</td>\n      <td>False</td>\n      <td>False</td>\n      <td>False</td>\n      <td>False</td>\n      <td>False</td>\n      <td>False</td>\n      <td>False</td>\n      <td>False</td>\n      <td>False</td>\n    </tr>\n    <tr>\n      <th>2</th>\n      <td>False</td>\n      <td>False</td>\n      <td>False</td>\n      <td>False</td>\n      <td>False</td>\n      <td>False</td>\n      <td>False</td>\n      <td>False</td>\n      <td>False</td>\n      <td>False</td>\n      <td>...</td>\n      <td>False</td>\n      <td>False</td>\n      <td>False</td>\n      <td>False</td>\n      <td>False</td>\n      <td>False</td>\n      <td>False</td>\n      <td>False</td>\n      <td>False</td>\n      <td>False</td>\n    </tr>\n    <tr>\n      <th>3</th>\n      <td>False</td>\n      <td>False</td>\n      <td>False</td>\n      <td>False</td>\n      <td>False</td>\n      <td>False</td>\n      <td>False</td>\n      <td>False</td>\n      <td>False</td>\n      <td>False</td>\n      <td>...</td>\n      <td>False</td>\n      <td>False</td>\n      <td>False</td>\n      <td>False</td>\n      <td>False</td>\n      <td>False</td>\n      <td>False</td>\n      <td>False</td>\n      <td>False</td>\n      <td>False</td>\n    </tr>\n    <tr>\n      <th>4</th>\n      <td>False</td>\n      <td>False</td>\n      <td>False</td>\n      <td>False</td>\n      <td>False</td>\n      <td>False</td>\n      <td>False</td>\n      <td>False</td>\n      <td>True</td>\n      <td>False</td>\n      <td>...</td>\n      <td>False</td>\n      <td>False</td>\n      <td>False</td>\n      <td>False</td>\n      <td>False</td>\n      <td>False</td>\n      <td>False</td>\n      <td>False</td>\n      <td>False</td>\n      <td>False</td>\n    </tr>\n    <tr>\n      <th>...</th>\n      <td>...</td>\n      <td>...</td>\n      <td>...</td>\n      <td>...</td>\n      <td>...</td>\n      <td>...</td>\n      <td>...</td>\n      <td>...</td>\n      <td>...</td>\n      <td>...</td>\n      <td>...</td>\n      <td>...</td>\n      <td>...</td>\n      <td>...</td>\n      <td>...</td>\n      <td>...</td>\n      <td>...</td>\n      <td>...</td>\n      <td>...</td>\n      <td>...</td>\n      <td>...</td>\n    </tr>\n    <tr>\n      <th>5865</th>\n      <td>False</td>\n      <td>False</td>\n      <td>True</td>\n      <td>False</td>\n      <td>True</td>\n      <td>False</td>\n      <td>False</td>\n      <td>False</td>\n      <td>True</td>\n      <td>False</td>\n      <td>...</td>\n      <td>False</td>\n      <td>True</td>\n      <td>False</td>\n      <td>True</td>\n      <td>False</td>\n      <td>True</td>\n      <td>False</td>\n      <td>False</td>\n      <td>False</td>\n      <td>False</td>\n    </tr>\n    <tr>\n      <th>5866</th>\n      <td>False</td>\n      <td>False</td>\n      <td>False</td>\n      <td>False</td>\n      <td>False</td>\n      <td>False</td>\n      <td>False</td>\n      <td>False</td>\n      <td>False</td>\n      <td>False</td>\n      <td>...</td>\n      <td>False</td>\n      <td>False</td>\n      <td>False</td>\n      <td>False</td>\n      <td>False</td>\n      <td>False</td>\n      <td>False</td>\n      <td>False</td>\n      <td>False</td>\n      <td>False</td>\n    </tr>\n    <tr>\n      <th>5867</th>\n      <td>False</td>\n      <td>False</td>\n      <td>False</td>\n      <td>False</td>\n      <td>False</td>\n      <td>False</td>\n      <td>False</td>\n      <td>False</td>\n      <td>False</td>\n      <td>False</td>\n      <td>...</td>\n      <td>False</td>\n      <td>False</td>\n      <td>False</td>\n      <td>False</td>\n      <td>False</td>\n      <td>False</td>\n      <td>False</td>\n      <td>False</td>\n      <td>False</td>\n      <td>False</td>\n    </tr>\n    <tr>\n      <th>5868</th>\n      <td>False</td>\n      <td>False</td>\n      <td>False</td>\n      <td>False</td>\n      <td>False</td>\n      <td>False</td>\n      <td>False</td>\n      <td>False</td>\n      <td>False</td>\n      <td>False</td>\n      <td>...</td>\n      <td>False</td>\n      <td>False</td>\n      <td>False</td>\n      <td>False</td>\n      <td>False</td>\n      <td>False</td>\n      <td>False</td>\n      <td>False</td>\n      <td>False</td>\n      <td>False</td>\n    </tr>\n    <tr>\n      <th>5869</th>\n      <td>True</td>\n      <td>False</td>\n      <td>False</td>\n      <td>False</td>\n      <td>False</td>\n      <td>False</td>\n      <td>False</td>\n      <td>False</td>\n      <td>False</td>\n      <td>False</td>\n      <td>...</td>\n      <td>False</td>\n      <td>False</td>\n      <td>False</td>\n      <td>False</td>\n      <td>False</td>\n      <td>False</td>\n      <td>False</td>\n      <td>False</td>\n      <td>False</td>\n      <td>False</td>\n    </tr>\n  </tbody>\n</table>\n<p>5870 rows × 528 columns</p>\n</div>"
     },
     "execution_count": 9,
     "metadata": {},
     "output_type": "execute_result"
    }
   ],
   "source": [
    "from mlxtend.preprocessing import TransactionEncoder\n",
    "\n",
    "mdlRetTe = TransactionEncoder()\n",
    "mdlRetTe_array = mdlRetTe.fit(dfRetList).transform(dfRetList)\n",
    "dfRtb = pd.DataFrame(mdlRetTe_array, columns=mdlRetTe.columns_)\n",
    "dfRtb"
   ],
   "metadata": {
    "collapsed": false,
    "ExecuteTime": {
     "end_time": "2024-07-21T23:24:42.921430600Z",
     "start_time": "2024-07-21T23:24:42.659461300Z"
    }
   },
   "id": "7c1abd1409d4f887"
  },
  {
   "cell_type": "code",
   "execution_count": 11,
   "outputs": [
    {
     "ename": "MemoryError",
     "evalue": "Unable to allocate 62.4 GiB for an array with shape (3802619, 3, 5870) and data type bool",
     "output_type": "error",
     "traceback": [
      "\u001B[1;31m---------------------------------------------------------------------------\u001B[0m",
      "\u001B[1;31mMemoryError\u001B[0m                               Traceback (most recent call last)",
      "Cell \u001B[1;32mIn[11], line 3\u001B[0m\n\u001B[0;32m      1\u001B[0m \u001B[38;5;28;01mfrom\u001B[39;00m \u001B[38;5;21;01mmlxtend\u001B[39;00m\u001B[38;5;21;01m.\u001B[39;00m\u001B[38;5;21;01mfrequent_patterns\u001B[39;00m \u001B[38;5;28;01mimport\u001B[39;00m apriori\n\u001B[1;32m----> 3\u001B[0m frequent_itemsets \u001B[38;5;241m=\u001B[39m \u001B[43mapriori\u001B[49m\u001B[43m(\u001B[49m\u001B[43mdfRtb\u001B[49m\u001B[43m,\u001B[49m\u001B[43m \u001B[49m\u001B[43mmin_support\u001B[49m\u001B[38;5;241;43m=\u001B[39;49m\u001B[38;5;241;43m0.01\u001B[39;49m\u001B[43m,\u001B[49m\u001B[43m \u001B[49m\u001B[43muse_colnames\u001B[49m\u001B[38;5;241;43m=\u001B[39;49m\u001B[38;5;28;43;01mTrue\u001B[39;49;00m\u001B[43m)\u001B[49m\n\u001B[0;32m      4\u001B[0m frequent_itemsets\n",
      "File \u001B[1;32m~\\PycharmProjects\\IE423\\venv\\lib\\site-packages\\mlxtend\\frequent_patterns\\apriori.py:309\u001B[0m, in \u001B[0;36mapriori\u001B[1;34m(df, min_support, use_colnames, max_len, verbose, low_memory)\u001B[0m\n\u001B[0;32m    307\u001B[0m         _bools \u001B[38;5;241m=\u001B[39m _bools \u001B[38;5;241m&\u001B[39m (X[:, combin[:, n]] \u001B[38;5;241m==\u001B[39m all_ones)\n\u001B[0;32m    308\u001B[0m \u001B[38;5;28;01melse\u001B[39;00m:\n\u001B[1;32m--> 309\u001B[0m     _bools \u001B[38;5;241m=\u001B[39m np\u001B[38;5;241m.\u001B[39mall(\u001B[43mX\u001B[49m\u001B[43m[\u001B[49m\u001B[43m:\u001B[49m\u001B[43m,\u001B[49m\u001B[43m \u001B[49m\u001B[43mcombin\u001B[49m\u001B[43m]\u001B[49m, axis\u001B[38;5;241m=\u001B[39m\u001B[38;5;241m2\u001B[39m)\n\u001B[0;32m    311\u001B[0m support \u001B[38;5;241m=\u001B[39m _support(np\u001B[38;5;241m.\u001B[39marray(_bools), rows_count, is_sparse)\n\u001B[0;32m    312\u001B[0m _mask \u001B[38;5;241m=\u001B[39m (support \u001B[38;5;241m>\u001B[39m\u001B[38;5;241m=\u001B[39m min_support)\u001B[38;5;241m.\u001B[39mreshape(\u001B[38;5;241m-\u001B[39m\u001B[38;5;241m1\u001B[39m)\n",
      "\u001B[1;31mMemoryError\u001B[0m: Unable to allocate 62.4 GiB for an array with shape (3802619, 3, 5870) and data type bool"
     ]
    }
   ],
   "source": [
    "# from mlxtend.frequent_patterns import apriori\n",
    "# \n",
    "# frequent_itemsets = apriori(dfRtb, min_support=0.01, use_colnames=True)\n",
    "# frequent_itemsets"
   ],
   "metadata": {
    "collapsed": false,
    "ExecuteTime": {
     "end_time": "2024-07-21T23:25:59.783768400Z",
     "start_time": "2024-07-21T23:25:54.121576400Z"
    }
   },
   "id": "142c4e08964f8621"
  },
  {
   "cell_type": "markdown",
   "source": [],
   "metadata": {
    "collapsed": false
   },
   "id": "33e9856326a99066"
  }
 ],
 "metadata": {
  "kernelspec": {
   "display_name": "Python 3",
   "language": "python",
   "name": "python3"
  },
  "language_info": {
   "codemirror_mode": {
    "name": "ipython",
    "version": 2
   },
   "file_extension": ".py",
   "mimetype": "text/x-python",
   "name": "python",
   "nbconvert_exporter": "python",
   "pygments_lexer": "ipython2",
   "version": "2.7.6"
  }
 },
 "nbformat": 4,
 "nbformat_minor": 5
}
