{
 "cells": [
  {
   "cell_type": "markdown",
   "metadata": {
    "id": "UdiR4a_7-NzB"
   },
   "source": [
    "#  Predicting the value of the football players "
   ]
  },
  {
   "cell_type": "markdown",
   "source": [
    "# Insights\n",
    "\n",
    "* Instead of having the dataset as whole, it is better to divide the data into 4 section which are attackers, midfielders, defence and goalkeepers. Some of the statistics recorded for some positions cannot be applied to the certain positions. For example data of goals and assists cannot be used for measuring the value of goalkeepers and defenders. It is not their job. So I decided to divide datasets into the 4 different section.\n",
    " \n",
    "* Attack players happened to be more valuable other positions. Respectively Attackers > Midfielders >= Defenders > GoalKeepers\n",
    "\n",
    "* I think there also must be difference according the players different roles in the positions. I am a good football fan and My common sense tells me that number 9 (Striker) number 7 (Winger Attack) and number 10 (Offensive Playmaker) always more valuable in football than other positions on the field. I could not extract that data from this data set and therefore I am leaving the dataset as is.\n",
    "\n",
    "* I will only do graph of the attack players for simplicity.   \n"
   ],
   "metadata": {
    "collapsed": false
   }
  },
  {
   "cell_type": "markdown",
   "metadata": {
    "id": "DFHPGFGJ7KJr"
   },
   "source": [
    "**INITIALIZE**"
   ]
  },
  {
   "cell_type": "code",
   "execution_count": 139,
   "metadata": {
    "id": "dyoGVANaDtqY",
    "ExecuteTime": {
     "end_time": "2024-07-02T21:50:41.018451100Z",
     "start_time": "2024-07-02T21:50:40.889252700Z"
    }
   },
   "outputs": [],
   "source": [
    "import pandas as pd\n",
    "import numpy as np\n",
    "import matplotlib.pyplot as plt"
   ]
  },
  {
   "cell_type": "code",
   "execution_count": 140,
   "metadata": {
    "id": "LTqbzoSAGF4P",
    "ExecuteTime": {
     "end_time": "2024-07-02T21:50:41.105553100Z",
     "start_time": "2024-07-02T21:50:40.908625100Z"
    }
   },
   "outputs": [],
   "source": [
    "from sklearn.linear_model import LinearRegression\n",
    "from sklearn.model_selection import train_test_split\n",
    "from sklearn.preprocessing import StandardScaler"
   ]
  },
  {
   "cell_type": "markdown",
   "metadata": {
    "id": "bskBGJj5-kmN"
   },
   "source": []
  },
  {
   "cell_type": "markdown",
   "metadata": {
    "id": "isoohMnD7Rmu"
   },
   "source": [
    "**Google Access**"
   ]
  },
  {
   "cell_type": "code",
   "execution_count": 141,
   "metadata": {
    "colab": {
     "base_uri": "https://localhost:8080/"
    },
    "id": "bjsyRYpgD3My",
    "outputId": "8831bc38-11d6-4044-f722-8cbe40b43502",
    "ExecuteTime": {
     "end_time": "2024-07-02T21:50:41.156876100Z",
     "start_time": "2024-07-02T21:50:40.922657Z"
    }
   },
   "outputs": [],
   "source": [
    "# from google.colab import drive\n",
    "# drive.mount('/content/drive')"
   ]
  },
  {
   "cell_type": "code",
   "execution_count": 142,
   "metadata": {
    "id": "aslP-ckyD8UE",
    "ExecuteTime": {
     "end_time": "2024-07-02T21:50:41.159873900Z",
     "start_time": "2024-07-02T21:50:40.937252800Z"
    }
   },
   "outputs": [],
   "source": [
    "dfPlayers = pd.read_csv('final_data.csv') # If you want to use your own computer you can install with git clone and use it directly in your computer."
   ]
  },
  {
   "cell_type": "code",
   "execution_count": 143,
   "metadata": {
    "colab": {
     "base_uri": "https://localhost:8080/",
     "height": 389
    },
    "id": "I9zmpnmAEF0r",
    "outputId": "67fd615f-f72a-4433-8006-c49380f980db",
    "ExecuteTime": {
     "end_time": "2024-07-02T21:50:41.186612800Z",
     "start_time": "2024-07-02T21:50:41.002216600Z"
    }
   },
   "outputs": [
    {
     "data": {
      "text/plain": "                                     player               team  \\\n0        /david-de-gea/profil/spieler/59377  Manchester United   \n1       /jack-butland/profil/spieler/128899  Manchester United   \n2          /tom-heaton/profil/spieler/34130  Manchester United   \n3  /lisandro-martinez/profil/spieler/480762  Manchester United   \n4     /raphael-varane/profil/spieler/164770  Manchester United   \n\n                name              position  height   age  appearance  \\\n0       David de Gea            Goalkeeper   189.0  32.0         104   \n1       Jack Butland            Goalkeeper   196.0  30.0          15   \n2         Tom Heaton            Goalkeeper   188.0  37.0           4   \n3  Lisandro Martínez  Defender Centre-Back   175.0  25.0          82   \n4     Raphaël Varane  Defender Centre-Back   191.0  30.0          63   \n\n      goals   assists  yellow cards  ...  goals conceded  clean sheets  \\\n0  0.000000  0.000000      0.009585  ...        1.217252      0.335463   \n1  0.000000  0.000000      0.069018  ...        1.242331      0.207055   \n2  0.000000  0.000000      0.000000  ...        0.616438      0.924658   \n3  0.028090  0.056180      0.224719  ...        0.000000      0.000000   \n4  0.017889  0.017889      0.053667  ...        0.000000      0.000000   \n\n   minutes played  days_injured  games_injured  award  current_value  \\\n0            9390            42              5     13       15000000   \n1            1304           510             58      1        1500000   \n2             292           697             84      4         600000   \n3            6408           175             22      9       50000000   \n4            5031           238             51     21       40000000   \n\n   highest_value  position_encoded  winger  \n0       70000000                 1       0  \n1       22000000                 1       0  \n2        6000000                 1       0  \n3       50000000                 2       0  \n4       80000000                 2       0  \n\n[5 rows x 22 columns]",
      "text/html": "<div>\n<style scoped>\n    .dataframe tbody tr th:only-of-type {\n        vertical-align: middle;\n    }\n\n    .dataframe tbody tr th {\n        vertical-align: top;\n    }\n\n    .dataframe thead th {\n        text-align: right;\n    }\n</style>\n<table border=\"1\" class=\"dataframe\">\n  <thead>\n    <tr style=\"text-align: right;\">\n      <th></th>\n      <th>player</th>\n      <th>team</th>\n      <th>name</th>\n      <th>position</th>\n      <th>height</th>\n      <th>age</th>\n      <th>appearance</th>\n      <th>goals</th>\n      <th>assists</th>\n      <th>yellow cards</th>\n      <th>...</th>\n      <th>goals conceded</th>\n      <th>clean sheets</th>\n      <th>minutes played</th>\n      <th>days_injured</th>\n      <th>games_injured</th>\n      <th>award</th>\n      <th>current_value</th>\n      <th>highest_value</th>\n      <th>position_encoded</th>\n      <th>winger</th>\n    </tr>\n  </thead>\n  <tbody>\n    <tr>\n      <th>0</th>\n      <td>/david-de-gea/profil/spieler/59377</td>\n      <td>Manchester United</td>\n      <td>David de Gea</td>\n      <td>Goalkeeper</td>\n      <td>189.0</td>\n      <td>32.0</td>\n      <td>104</td>\n      <td>0.000000</td>\n      <td>0.000000</td>\n      <td>0.009585</td>\n      <td>...</td>\n      <td>1.217252</td>\n      <td>0.335463</td>\n      <td>9390</td>\n      <td>42</td>\n      <td>5</td>\n      <td>13</td>\n      <td>15000000</td>\n      <td>70000000</td>\n      <td>1</td>\n      <td>0</td>\n    </tr>\n    <tr>\n      <th>1</th>\n      <td>/jack-butland/profil/spieler/128899</td>\n      <td>Manchester United</td>\n      <td>Jack Butland</td>\n      <td>Goalkeeper</td>\n      <td>196.0</td>\n      <td>30.0</td>\n      <td>15</td>\n      <td>0.000000</td>\n      <td>0.000000</td>\n      <td>0.069018</td>\n      <td>...</td>\n      <td>1.242331</td>\n      <td>0.207055</td>\n      <td>1304</td>\n      <td>510</td>\n      <td>58</td>\n      <td>1</td>\n      <td>1500000</td>\n      <td>22000000</td>\n      <td>1</td>\n      <td>0</td>\n    </tr>\n    <tr>\n      <th>2</th>\n      <td>/tom-heaton/profil/spieler/34130</td>\n      <td>Manchester United</td>\n      <td>Tom Heaton</td>\n      <td>Goalkeeper</td>\n      <td>188.0</td>\n      <td>37.0</td>\n      <td>4</td>\n      <td>0.000000</td>\n      <td>0.000000</td>\n      <td>0.000000</td>\n      <td>...</td>\n      <td>0.616438</td>\n      <td>0.924658</td>\n      <td>292</td>\n      <td>697</td>\n      <td>84</td>\n      <td>4</td>\n      <td>600000</td>\n      <td>6000000</td>\n      <td>1</td>\n      <td>0</td>\n    </tr>\n    <tr>\n      <th>3</th>\n      <td>/lisandro-martinez/profil/spieler/480762</td>\n      <td>Manchester United</td>\n      <td>Lisandro Martínez</td>\n      <td>Defender Centre-Back</td>\n      <td>175.0</td>\n      <td>25.0</td>\n      <td>82</td>\n      <td>0.028090</td>\n      <td>0.056180</td>\n      <td>0.224719</td>\n      <td>...</td>\n      <td>0.000000</td>\n      <td>0.000000</td>\n      <td>6408</td>\n      <td>175</td>\n      <td>22</td>\n      <td>9</td>\n      <td>50000000</td>\n      <td>50000000</td>\n      <td>2</td>\n      <td>0</td>\n    </tr>\n    <tr>\n      <th>4</th>\n      <td>/raphael-varane/profil/spieler/164770</td>\n      <td>Manchester United</td>\n      <td>Raphaël Varane</td>\n      <td>Defender Centre-Back</td>\n      <td>191.0</td>\n      <td>30.0</td>\n      <td>63</td>\n      <td>0.017889</td>\n      <td>0.017889</td>\n      <td>0.053667</td>\n      <td>...</td>\n      <td>0.000000</td>\n      <td>0.000000</td>\n      <td>5031</td>\n      <td>238</td>\n      <td>51</td>\n      <td>21</td>\n      <td>40000000</td>\n      <td>80000000</td>\n      <td>2</td>\n      <td>0</td>\n    </tr>\n  </tbody>\n</table>\n<p>5 rows × 22 columns</p>\n</div>"
     },
     "execution_count": 143,
     "metadata": {},
     "output_type": "execute_result"
    }
   ],
   "source": [
    "dfPlayers.head()"
   ]
  },
  {
   "cell_type": "markdown",
   "source": [
    "# Dividing DataFrame into 4 sections for each position."
   ],
   "metadata": {
    "collapsed": false
   }
  },
  {
   "cell_type": "code",
   "execution_count": 144,
   "outputs": [
    {
     "name": "stdout",
     "output_type": "stream",
     "text": [
      "                                       player               team  \\\n",
      "23     /marcus-rashford/profil/spieler/258923  Manchester United   \n",
      "24        /jadon-sancho/profil/spieler/401173  Manchester United   \n",
      "25      /anthony-elanga/profil/spieler/583189  Manchester United   \n",
      "26  /alejandro-garnacho/profil/spieler/811779  Manchester United   \n",
      "27              /antony/profil/spieler/602105  Manchester United   \n",
      "\n",
      "                  name            position  height   age  appearance  \\\n",
      "23     Marcus Rashford   Attack-LeftWinger   185.0  25.0          88   \n",
      "24        Jadon Sancho   Attack-LeftWinger   180.0  23.0          79   \n",
      "25      Anthony Elanga   Attack-LeftWinger   178.0  21.0          63   \n",
      "26  Alejandro Garnacho   Attack-LeftWinger   180.0  18.0          72   \n",
      "27              Antony  Attack-RightWinger   172.0  23.0          80   \n",
      "\n",
      "       goals   assists  yellow cards  ...  goals conceded  clean sheets  \\\n",
      "23  0.528790  0.196408      0.075541  ...             0.0           0.0   \n",
      "24  0.219780  0.109890      0.000000  ...             0.0           0.0   \n",
      "25  0.236220  0.206693      0.029528  ...             0.0           0.0   \n",
      "26  0.525730  0.300417      0.225313  ...             0.0           0.0   \n",
      "27  0.335252  0.228581      0.182865  ...             0.0           0.0   \n",
      "\n",
      "    minutes played  days_injured  games_injured  award  current_value  \\\n",
      "23            5957           319             35      9       80000000   \n",
      "24            4914           173             32      5       55000000   \n",
      "25            3048             0              0      1       25000000   \n",
      "26            3595            50             11      2       25000000   \n",
      "27            5906           196             22      5       70000000   \n",
      "\n",
      "    highest_value  position_encoded  winger  \n",
      "23       85000000                 4       1  \n",
      "24      130000000                 4       1  \n",
      "25       25000000                 4       1  \n",
      "26       25000000                 4       1  \n",
      "27       75000000                 4       1  \n",
      "\n",
      "[5 rows x 22 columns]\n",
      "                                     player               team  \\\n",
      "14           /casemiro/profil/spieler/16306  Manchester United   \n",
      "15   /scott-mctominay/profil/spieler/315969  Manchester United   \n",
      "16  /christian-eriksen/profil/spieler/69633  Manchester United   \n",
      "17   /marcel-sabitzer/profil/spieler/106987  Manchester United   \n",
      "18              /fred/profil/spieler/191614  Manchester United   \n",
      "\n",
      "                 name                    position  height   age  appearance  \\\n",
      "14           Casemiro  midfield-DefensiveMidfield   185.0  31.0         101   \n",
      "15    Scott McTominay  midfield-DefensiveMidfield   191.0  26.0          76   \n",
      "16  Christian Eriksen    midfield-CentralMidfield   182.0  31.0          55   \n",
      "17    Marcel Sabitzer    midfield-CentralMidfield   177.0  29.0          74   \n",
      "18               Fred    midfield-CentralMidfield   169.0  30.0          92   \n",
      "\n",
      "       goals   assists  yellow cards  ...  goals conceded  clean sheets  \\\n",
      "14  0.090817  0.124874      0.329213  ...             0.0           0.0   \n",
      "15  0.096010  0.038404      0.384041  ...             0.0           0.0   \n",
      "16  0.067214  0.313667      0.089619  ...             0.0           0.0   \n",
      "17  0.144046  0.086428      0.230474  ...             0.0           0.0   \n",
      "18  0.184843  0.221811      0.332717  ...             0.0           0.0   \n",
      "\n",
      "    minutes played  days_injured  games_injured  award  current_value  \\\n",
      "14            7928           174             31     23       50000000   \n",
      "15            4687           249             53      2       25000000   \n",
      "16            4017             0              0     10       25000000   \n",
      "17            3124           280             35      8       20000000   \n",
      "18            4869            45             10     11       20000000   \n",
      "\n",
      "    highest_value  position_encoded  winger  \n",
      "14       80000000                 3       0  \n",
      "15       35000000                 3       0  \n",
      "16      100000000                 3       0  \n",
      "17       42000000                 3       0  \n",
      "18       50000000                 3       0  \n",
      "\n",
      "[5 rows x 22 columns]\n",
      "                                     player               team  \\\n",
      "3  /lisandro-martinez/profil/spieler/480762  Manchester United   \n",
      "4     /raphael-varane/profil/spieler/164770  Manchester United   \n",
      "5      /harry-maguire/profil/spieler/177907  Manchester United   \n",
      "6    /victor-lindelof/profil/spieler/184573  Manchester United   \n",
      "7         /phil-jones/profil/spieler/117996  Manchester United   \n",
      "\n",
      "                name              position  height   age  appearance  \\\n",
      "3  Lisandro Martínez  Defender Centre-Back   175.0  25.0          82   \n",
      "4     Raphaël Varane  Defender Centre-Back   191.0  30.0          63   \n",
      "5      Harry Maguire  Defender Centre-Back   194.0  30.0          68   \n",
      "6    Victor Lindelöf  Defender Centre-Back   187.0  28.0          70   \n",
      "7         Phil Jones  Defender Centre-Back   185.0  31.0           8   \n",
      "\n",
      "      goals   assists  yellow cards  ...  goals conceded  clean sheets  \\\n",
      "3  0.028090  0.056180      0.224719  ...             0.0           0.0   \n",
      "4  0.017889  0.017889      0.053667  ...             0.0           0.0   \n",
      "5  0.037799  0.000000      0.302394  ...             0.0           0.0   \n",
      "6  0.000000  0.032901      0.115153  ...             0.0           0.0   \n",
      "7  0.000000  0.000000      0.216346  ...             0.0           0.0   \n",
      "\n",
      "   minutes played  days_injured  games_injured  award  current_value  \\\n",
      "3            6408           175             22      9       50000000   \n",
      "4            5031           238             51     21       40000000   \n",
      "5            4762           148             27      1       25000000   \n",
      "6            5471            95             19     10       15000000   \n",
      "7             416           932            169      7        2000000   \n",
      "\n",
      "   highest_value  position_encoded  winger  \n",
      "3       50000000                 2       0  \n",
      "4       80000000                 2       0  \n",
      "5       70000000                 2       0  \n",
      "6       35000000                 2       0  \n",
      "7       20000000                 2       0  \n",
      "\n",
      "[5 rows x 22 columns]\n",
      "                                    player               team  \\\n",
      "0       /david-de-gea/profil/spieler/59377  Manchester United   \n",
      "1      /jack-butland/profil/spieler/128899  Manchester United   \n",
      "2         /tom-heaton/profil/spieler/34130  Manchester United   \n",
      "32  /alphonse-areola/profil/spieler/120629    West Ham United   \n",
      "33  /lukasz-fabianski/profil/spieler/29692    West Ham United   \n",
      "\n",
      "                name    position  height   age  appearance  goals  assists  \\\n",
      "0       David de Gea  Goalkeeper   189.0  32.0         104    0.0      0.0   \n",
      "1       Jack Butland  Goalkeeper   196.0  30.0          15    0.0      0.0   \n",
      "2         Tom Heaton  Goalkeeper   188.0  37.0           4    0.0      0.0   \n",
      "32   Alphonse Areola  Goalkeeper   195.0  30.0          41    0.0      0.0   \n",
      "33  Lukasz Fabianski  Goalkeeper   190.0  38.0          75    0.0      0.0   \n",
      "\n",
      "    yellow cards  ...  goals conceded  clean sheets  minutes played  \\\n",
      "0       0.009585  ...        1.217252      0.335463            9390   \n",
      "1       0.069018  ...        1.242331      0.207055            1304   \n",
      "2       0.000000  ...        0.616438      0.924658             292   \n",
      "32      0.000000  ...        0.898502      0.449251            3606   \n",
      "33      0.040767  ...        1.331723      0.271780            6623   \n",
      "\n",
      "    days_injured  games_injured  award  current_value  highest_value  \\\n",
      "0             42              5     13       15000000       70000000   \n",
      "1            510             58      1        1500000       22000000   \n",
      "2            697             84      4         600000        6000000   \n",
      "32            34              4     16        8000000       17500000   \n",
      "33           554             99      4        1000000        9000000   \n",
      "\n",
      "    position_encoded  winger  \n",
      "0                  1       0  \n",
      "1                  1       0  \n",
      "2                  1       0  \n",
      "32                 1       0  \n",
      "33                 1       0  \n",
      "\n",
      "[5 rows x 22 columns]\n"
     ]
    }
   ],
   "source": [
    "dfAttackers = pd.DataFrame()\n",
    "dfMid = pd.DataFrame()\n",
    "dfDefend = pd.DataFrame()\n",
    "dfGoalKeep = pd.DataFrame()\n",
    "\n",
    "grouped = dfPlayers.groupby('position_encoded')\n",
    "for position, group in grouped:\n",
    "    if position == 1:\n",
    "        dfGoalKeep = group\n",
    "    elif position == 2:\n",
    "        dfDefend = group\n",
    "    elif position == 3:\n",
    "        dfMid = group\n",
    "    elif position == 4:\n",
    "        dfAttackers = group\n",
    "\n",
    "print(dfAttackers.head(5))\n",
    "print(dfMid.head(5))\n",
    "print(dfDefend.head(5))\n",
    "print(dfGoalKeep.head(5))\n"
   ],
   "metadata": {
    "collapsed": false,
    "ExecuteTime": {
     "end_time": "2024-07-02T21:50:41.186612800Z",
     "start_time": "2024-07-02T21:50:41.032490100Z"
    }
   }
  },
  {
   "cell_type": "code",
   "execution_count": 145,
   "outputs": [
    {
     "data": {
      "text/plain": "                                       player        team            name  \\\ncount                                    1229        1229            1229   \nunique                                   1229         374            1229   \ntop     /daniel-margush/profil/spieler/414085  RB Leipzig  Daniel Margush   \nfreq                                        1           6               1   \nmean                                      NaN         NaN             NaN   \nstd                                       NaN         NaN             NaN   \nmin                                       NaN         NaN             NaN   \n25%                                       NaN         NaN             NaN   \n50%                                       NaN         NaN             NaN   \n75%                                       NaN         NaN             NaN   \nmax                                       NaN         NaN             NaN   \n\n          position       height          age   appearance        goals  \\\ncount         1229  1229.000000  1229.000000  1229.000000  1229.000000   \nunique           1          NaN          NaN          NaN          NaN   \ntop     Goalkeeper          NaN          NaN          NaN          NaN   \nfreq          1229          NaN          NaN          NaN          NaN   \nmean           NaN   188.827516    27.465487    24.270138     0.000411   \nstd            NaN     4.733452     5.618108    24.765288     0.005306   \nmin            NaN   172.000000    15.000000     0.000000     0.000000   \n25%            NaN   186.000000    23.000000     3.000000     0.000000   \n50%            NaN   189.000000    27.000000    16.000000     0.000000   \n75%            NaN   192.000000    32.000000    40.000000     0.000000   \nmax            NaN   206.000000    42.000000   105.000000     0.103448   \n\n        assists  yellow cards  ...  goals conceded  clean sheets  \\\ncount    1229.0   1229.000000  ...     1229.000000   1229.000000   \nunique      NaN           NaN  ...             NaN           NaN   \ntop         NaN           NaN  ...             NaN           NaN   \nfreq        NaN           NaN  ...             NaN           NaN   \nmean        0.0      0.051199  ...        1.152012      0.392717   \nstd         0.0      0.094104  ...        0.732724      2.710437   \nmin         0.0      0.000000  ...        0.000000      0.000000   \n25%         0.0      0.000000  ...        0.842434      0.111111   \n50%         0.0      0.017496  ...        1.214029      0.255102   \n75%         0.0      0.075662  ...        1.534091      0.363066   \nmax         0.0      1.000000  ...        9.000000     90.000000   \n\n        minutes played  days_injured  games_injured        award  \\\ncount      1229.000000   1229.000000    1229.000000  1229.000000   \nunique             NaN           NaN            NaN          NaN   \ntop                NaN           NaN            NaN          NaN   \nfreq               NaN           NaN            NaN          NaN   \nmean       2167.393816     90.724166      11.510985     1.867372   \nstd        2229.872532    153.628983      19.334597     3.257837   \nmin           0.000000      0.000000       0.000000     0.000000   \n25%         270.000000      0.000000       0.000000     0.000000   \n50%        1464.000000     13.000000       2.000000     1.000000   \n75%        3562.000000    124.000000      16.000000     2.000000   \nmax        9510.000000   1169.000000     139.000000    36.000000   \n\n        current_value  highest_value  position_encoded  winger  \ncount    1.229000e+03   1.229000e+03            1229.0  1229.0  \nunique            NaN            NaN               NaN     NaN  \ntop               NaN            NaN               NaN     NaN  \nfreq              NaN            NaN               NaN     NaN  \nmean     1.650801e+06   3.278621e+06               1.0     0.0  \nstd      4.837958e+06   8.406940e+06               0.0     0.0  \nmin      0.000000e+00   0.000000e+00               1.0     0.0  \n25%      1.000000e+05   2.000000e+05               1.0     0.0  \n50%      3.000000e+05   6.000000e+05               1.0     0.0  \n75%      1.000000e+06   2.250000e+06               1.0     0.0  \nmax      5.000000e+07   1.000000e+08               1.0     0.0  \n\n[11 rows x 22 columns]",
      "text/html": "<div>\n<style scoped>\n    .dataframe tbody tr th:only-of-type {\n        vertical-align: middle;\n    }\n\n    .dataframe tbody tr th {\n        vertical-align: top;\n    }\n\n    .dataframe thead th {\n        text-align: right;\n    }\n</style>\n<table border=\"1\" class=\"dataframe\">\n  <thead>\n    <tr style=\"text-align: right;\">\n      <th></th>\n      <th>player</th>\n      <th>team</th>\n      <th>name</th>\n      <th>position</th>\n      <th>height</th>\n      <th>age</th>\n      <th>appearance</th>\n      <th>goals</th>\n      <th>assists</th>\n      <th>yellow cards</th>\n      <th>...</th>\n      <th>goals conceded</th>\n      <th>clean sheets</th>\n      <th>minutes played</th>\n      <th>days_injured</th>\n      <th>games_injured</th>\n      <th>award</th>\n      <th>current_value</th>\n      <th>highest_value</th>\n      <th>position_encoded</th>\n      <th>winger</th>\n    </tr>\n  </thead>\n  <tbody>\n    <tr>\n      <th>count</th>\n      <td>1229</td>\n      <td>1229</td>\n      <td>1229</td>\n      <td>1229</td>\n      <td>1229.000000</td>\n      <td>1229.000000</td>\n      <td>1229.000000</td>\n      <td>1229.000000</td>\n      <td>1229.0</td>\n      <td>1229.000000</td>\n      <td>...</td>\n      <td>1229.000000</td>\n      <td>1229.000000</td>\n      <td>1229.000000</td>\n      <td>1229.000000</td>\n      <td>1229.000000</td>\n      <td>1229.000000</td>\n      <td>1.229000e+03</td>\n      <td>1.229000e+03</td>\n      <td>1229.0</td>\n      <td>1229.0</td>\n    </tr>\n    <tr>\n      <th>unique</th>\n      <td>1229</td>\n      <td>374</td>\n      <td>1229</td>\n      <td>1</td>\n      <td>NaN</td>\n      <td>NaN</td>\n      <td>NaN</td>\n      <td>NaN</td>\n      <td>NaN</td>\n      <td>NaN</td>\n      <td>...</td>\n      <td>NaN</td>\n      <td>NaN</td>\n      <td>NaN</td>\n      <td>NaN</td>\n      <td>NaN</td>\n      <td>NaN</td>\n      <td>NaN</td>\n      <td>NaN</td>\n      <td>NaN</td>\n      <td>NaN</td>\n    </tr>\n    <tr>\n      <th>top</th>\n      <td>/daniel-margush/profil/spieler/414085</td>\n      <td>RB Leipzig</td>\n      <td>Daniel Margush</td>\n      <td>Goalkeeper</td>\n      <td>NaN</td>\n      <td>NaN</td>\n      <td>NaN</td>\n      <td>NaN</td>\n      <td>NaN</td>\n      <td>NaN</td>\n      <td>...</td>\n      <td>NaN</td>\n      <td>NaN</td>\n      <td>NaN</td>\n      <td>NaN</td>\n      <td>NaN</td>\n      <td>NaN</td>\n      <td>NaN</td>\n      <td>NaN</td>\n      <td>NaN</td>\n      <td>NaN</td>\n    </tr>\n    <tr>\n      <th>freq</th>\n      <td>1</td>\n      <td>6</td>\n      <td>1</td>\n      <td>1229</td>\n      <td>NaN</td>\n      <td>NaN</td>\n      <td>NaN</td>\n      <td>NaN</td>\n      <td>NaN</td>\n      <td>NaN</td>\n      <td>...</td>\n      <td>NaN</td>\n      <td>NaN</td>\n      <td>NaN</td>\n      <td>NaN</td>\n      <td>NaN</td>\n      <td>NaN</td>\n      <td>NaN</td>\n      <td>NaN</td>\n      <td>NaN</td>\n      <td>NaN</td>\n    </tr>\n    <tr>\n      <th>mean</th>\n      <td>NaN</td>\n      <td>NaN</td>\n      <td>NaN</td>\n      <td>NaN</td>\n      <td>188.827516</td>\n      <td>27.465487</td>\n      <td>24.270138</td>\n      <td>0.000411</td>\n      <td>0.0</td>\n      <td>0.051199</td>\n      <td>...</td>\n      <td>1.152012</td>\n      <td>0.392717</td>\n      <td>2167.393816</td>\n      <td>90.724166</td>\n      <td>11.510985</td>\n      <td>1.867372</td>\n      <td>1.650801e+06</td>\n      <td>3.278621e+06</td>\n      <td>1.0</td>\n      <td>0.0</td>\n    </tr>\n    <tr>\n      <th>std</th>\n      <td>NaN</td>\n      <td>NaN</td>\n      <td>NaN</td>\n      <td>NaN</td>\n      <td>4.733452</td>\n      <td>5.618108</td>\n      <td>24.765288</td>\n      <td>0.005306</td>\n      <td>0.0</td>\n      <td>0.094104</td>\n      <td>...</td>\n      <td>0.732724</td>\n      <td>2.710437</td>\n      <td>2229.872532</td>\n      <td>153.628983</td>\n      <td>19.334597</td>\n      <td>3.257837</td>\n      <td>4.837958e+06</td>\n      <td>8.406940e+06</td>\n      <td>0.0</td>\n      <td>0.0</td>\n    </tr>\n    <tr>\n      <th>min</th>\n      <td>NaN</td>\n      <td>NaN</td>\n      <td>NaN</td>\n      <td>NaN</td>\n      <td>172.000000</td>\n      <td>15.000000</td>\n      <td>0.000000</td>\n      <td>0.000000</td>\n      <td>0.0</td>\n      <td>0.000000</td>\n      <td>...</td>\n      <td>0.000000</td>\n      <td>0.000000</td>\n      <td>0.000000</td>\n      <td>0.000000</td>\n      <td>0.000000</td>\n      <td>0.000000</td>\n      <td>0.000000e+00</td>\n      <td>0.000000e+00</td>\n      <td>1.0</td>\n      <td>0.0</td>\n    </tr>\n    <tr>\n      <th>25%</th>\n      <td>NaN</td>\n      <td>NaN</td>\n      <td>NaN</td>\n      <td>NaN</td>\n      <td>186.000000</td>\n      <td>23.000000</td>\n      <td>3.000000</td>\n      <td>0.000000</td>\n      <td>0.0</td>\n      <td>0.000000</td>\n      <td>...</td>\n      <td>0.842434</td>\n      <td>0.111111</td>\n      <td>270.000000</td>\n      <td>0.000000</td>\n      <td>0.000000</td>\n      <td>0.000000</td>\n      <td>1.000000e+05</td>\n      <td>2.000000e+05</td>\n      <td>1.0</td>\n      <td>0.0</td>\n    </tr>\n    <tr>\n      <th>50%</th>\n      <td>NaN</td>\n      <td>NaN</td>\n      <td>NaN</td>\n      <td>NaN</td>\n      <td>189.000000</td>\n      <td>27.000000</td>\n      <td>16.000000</td>\n      <td>0.000000</td>\n      <td>0.0</td>\n      <td>0.017496</td>\n      <td>...</td>\n      <td>1.214029</td>\n      <td>0.255102</td>\n      <td>1464.000000</td>\n      <td>13.000000</td>\n      <td>2.000000</td>\n      <td>1.000000</td>\n      <td>3.000000e+05</td>\n      <td>6.000000e+05</td>\n      <td>1.0</td>\n      <td>0.0</td>\n    </tr>\n    <tr>\n      <th>75%</th>\n      <td>NaN</td>\n      <td>NaN</td>\n      <td>NaN</td>\n      <td>NaN</td>\n      <td>192.000000</td>\n      <td>32.000000</td>\n      <td>40.000000</td>\n      <td>0.000000</td>\n      <td>0.0</td>\n      <td>0.075662</td>\n      <td>...</td>\n      <td>1.534091</td>\n      <td>0.363066</td>\n      <td>3562.000000</td>\n      <td>124.000000</td>\n      <td>16.000000</td>\n      <td>2.000000</td>\n      <td>1.000000e+06</td>\n      <td>2.250000e+06</td>\n      <td>1.0</td>\n      <td>0.0</td>\n    </tr>\n    <tr>\n      <th>max</th>\n      <td>NaN</td>\n      <td>NaN</td>\n      <td>NaN</td>\n      <td>NaN</td>\n      <td>206.000000</td>\n      <td>42.000000</td>\n      <td>105.000000</td>\n      <td>0.103448</td>\n      <td>0.0</td>\n      <td>1.000000</td>\n      <td>...</td>\n      <td>9.000000</td>\n      <td>90.000000</td>\n      <td>9510.000000</td>\n      <td>1169.000000</td>\n      <td>139.000000</td>\n      <td>36.000000</td>\n      <td>5.000000e+07</td>\n      <td>1.000000e+08</td>\n      <td>1.0</td>\n      <td>0.0</td>\n    </tr>\n  </tbody>\n</table>\n<p>11 rows × 22 columns</p>\n</div>"
     },
     "execution_count": 145,
     "metadata": {},
     "output_type": "execute_result"
    }
   ],
   "source": [
    "dfAttackers.describe(include=\"all\")\n",
    "dfMid.describe(include=\"all\")\n",
    "dfDefend.describe(include=\"all\")\n",
    "dfGoalKeep.describe(include=\"all\")"
   ],
   "metadata": {
    "collapsed": false,
    "ExecuteTime": {
     "end_time": "2024-07-02T21:50:41.388319500Z",
     "start_time": "2024-07-02T21:50:41.077418800Z"
    }
   }
  },
  {
   "cell_type": "code",
   "execution_count": 146,
   "metadata": {
    "id": "1bSjIdkWEvCR",
    "ExecuteTime": {
     "end_time": "2024-07-02T21:50:41.395581100Z",
     "start_time": "2024-07-02T21:50:41.295132600Z"
    }
   },
   "outputs": [],
   "source": [
    "dependent = ['height', 'age', 'appearance', 'goals', 'assists', 'yellow cards', 'goals conceded', 'clean sheets',\n",
    "            'minutes played', 'days_injured', 'games_injured', 'award', 'highest_value', 'position_encoded', 'winger']\n",
    "independent = 'current_value'\n"
   ]
  },
  {
   "cell_type": "code",
   "execution_count": 147,
   "metadata": {
    "id": "9TaBBPW2FYCt",
    "ExecuteTime": {
     "end_time": "2024-07-02T21:50:41.395581100Z",
     "start_time": "2024-07-02T21:50:41.311183900Z"
    }
   },
   "outputs": [],
   "source": [
    "## Attacker Axis\n",
    "xAxisAttack = dfAttackers.loc[:, dependent]\n",
    "yAxisAttack = dfAttackers.loc[:, [independent]]\n",
    "\n",
    "\n",
    "## Midfield Axis\n",
    "xAxisMid = dfMid.loc[:, dependent]\n",
    "yAxisMid = dfMid.loc[:, [independent]]\n",
    "\n",
    "## Defender Axis\n",
    "xAxisDefend = dfDefend.loc[:, dependent]\n",
    "yAxisDefend = dfDefend.loc[:, [independent]]\n",
    "\n",
    "## Goalkeeper Axis\n",
    "xAxisGoalKeep = dfGoalKeep.loc[:, dependent]\n",
    "yAxisGoalKeep = dfGoalKeep.loc[:, [independent]]\n"
   ]
  },
  {
   "cell_type": "markdown",
   "metadata": {
    "id": "afMQJrvF7sPo"
   },
   "source": [
    "For data train splitting the values "
   ]
  },
  {
   "cell_type": "code",
   "execution_count": 148,
   "metadata": {
    "id": "bSSOYnj6GTFB",
    "ExecuteTime": {
     "end_time": "2024-07-02T21:50:41.396578Z",
     "start_time": "2024-07-02T21:50:41.328421800Z"
    }
   },
   "outputs": [],
   "source": [
    "\n",
    "X_train_attack, X_test_attack, Y_train_attack, Y_test_attack = train_test_split(xAxisAttack, yAxisAttack, test_size=0.2, random_state=10)\n",
    "\n",
    "X_train_mid, X_test_mid, Y_train_mid, Y_test_mid = train_test_split(xAxisMid, yAxisMid, test_size=0.2, random_state=10)\n",
    "\n",
    "X_train_defend, X_test_defend, Y_train_defend, Y_test_defend = train_test_split(xAxisDefend, yAxisDefend, test_size=0.2, random_state=10)\n",
    "\n",
    "X_train_keeper, X_test_keeper, Y_train_keeper, Y_test_keeper = train_test_split(xAxisGoalKeep, yAxisGoalKeep, test_size=0.2, random_state=10)\n",
    "\n",
    "\n"
   ]
  },
  {
   "cell_type": "markdown",
   "metadata": {
    "id": "VMWZuc9h7y5J"
   },
   "source": [
    "# For Each Data Set Create a scalar and predict the data"
   ]
  },
  {
   "cell_type": "code",
   "execution_count": 149,
   "metadata": {
    "id": "SO3QR6ehGbvr",
    "ExecuteTime": {
     "end_time": "2024-07-02T21:50:41.459903900Z",
     "start_time": "2024-07-02T21:50:41.360163600Z"
    }
   },
   "outputs": [],
   "source": [
    "# scaler = StandardScaler()\n",
    "# X_train_scaled = scaler.fit_transform(X_train)\n",
    "# X_test_scaled = scaler.transform(X_test)\n",
    "\n",
    "scaler_attack = StandardScaler()\n",
    "X_train_scaled_attack = scaler_attack.fit_transform(X_train_attack)\n",
    "X_test_scaled_attackk = scaler_attack.transform(X_test_attack)\n",
    "\n",
    "scaler_mid = StandardScaler()\n",
    "X_train_scaled_mid = scaler_mid.fit_transform(X_train_mid)\n",
    "X_test_scaled_mid = scaler_mid.transform(X_test_mid)\n",
    "\n",
    "scaler_defend = StandardScaler()\n",
    "X_train_scaled_defend = scaler_defend.fit_transform(X_train_defend)\n",
    "X_test_scaled_defend = scaler_defend.transform(X_test_defend)\n",
    "\n",
    "scaler_keeper = StandardScaler()\n",
    "X_train_scaled_keeper = scaler_keeper.fit_transform(X_train_keeper)\n",
    "X_test_scaled_keeper = scaler_keeper.transform(X_test_keeper)\n",
    "\n"
   ]
  },
  {
   "cell_type": "markdown",
   "metadata": {
    "id": "5ra_-2eF75vm"
   },
   "source": [
    "# Liner Reg Model For All Of the Data Frames"
   ]
  },
  {
   "cell_type": "code",
   "execution_count": 150,
   "metadata": {
    "colab": {
     "base_uri": "https://localhost:8080/",
     "height": 74
    },
    "id": "LRf46015FHuI",
    "outputId": "fd17e0ad-f0f2-4890-da2e-6e45e5684bef",
    "ExecuteTime": {
     "end_time": "2024-07-02T21:50:41.536554Z",
     "start_time": "2024-07-02T21:50:41.404217500Z"
    }
   },
   "outputs": [
    {
     "data": {
      "text/plain": "LinearRegression()",
      "text/html": "<style>#sk-container-id-11 {\n  /* Definition of color scheme common for light and dark mode */\n  --sklearn-color-text: black;\n  --sklearn-color-line: gray;\n  /* Definition of color scheme for unfitted estimators */\n  --sklearn-color-unfitted-level-0: #fff5e6;\n  --sklearn-color-unfitted-level-1: #f6e4d2;\n  --sklearn-color-unfitted-level-2: #ffe0b3;\n  --sklearn-color-unfitted-level-3: chocolate;\n  /* Definition of color scheme for fitted estimators */\n  --sklearn-color-fitted-level-0: #f0f8ff;\n  --sklearn-color-fitted-level-1: #d4ebff;\n  --sklearn-color-fitted-level-2: #b3dbfd;\n  --sklearn-color-fitted-level-3: cornflowerblue;\n\n  /* Specific color for light theme */\n  --sklearn-color-text-on-default-background: var(--sg-text-color, var(--theme-code-foreground, var(--jp-content-font-color1, black)));\n  --sklearn-color-background: var(--sg-background-color, var(--theme-background, var(--jp-layout-color0, white)));\n  --sklearn-color-border-box: var(--sg-text-color, var(--theme-code-foreground, var(--jp-content-font-color1, black)));\n  --sklearn-color-icon: #696969;\n\n  @media (prefers-color-scheme: dark) {\n    /* Redefinition of color scheme for dark theme */\n    --sklearn-color-text-on-default-background: var(--sg-text-color, var(--theme-code-foreground, var(--jp-content-font-color1, white)));\n    --sklearn-color-background: var(--sg-background-color, var(--theme-background, var(--jp-layout-color0, #111)));\n    --sklearn-color-border-box: var(--sg-text-color, var(--theme-code-foreground, var(--jp-content-font-color1, white)));\n    --sklearn-color-icon: #878787;\n  }\n}\n\n#sk-container-id-11 {\n  color: var(--sklearn-color-text);\n}\n\n#sk-container-id-11 pre {\n  padding: 0;\n}\n\n#sk-container-id-11 input.sk-hidden--visually {\n  border: 0;\n  clip: rect(1px 1px 1px 1px);\n  clip: rect(1px, 1px, 1px, 1px);\n  height: 1px;\n  margin: -1px;\n  overflow: hidden;\n  padding: 0;\n  position: absolute;\n  width: 1px;\n}\n\n#sk-container-id-11 div.sk-dashed-wrapped {\n  border: 1px dashed var(--sklearn-color-line);\n  margin: 0 0.4em 0.5em 0.4em;\n  box-sizing: border-box;\n  padding-bottom: 0.4em;\n  background-color: var(--sklearn-color-background);\n}\n\n#sk-container-id-11 div.sk-container {\n  /* jupyter's `normalize.less` sets `[hidden] { display: none; }`\n     but bootstrap.min.css set `[hidden] { display: none !important; }`\n     so we also need the `!important` here to be able to override the\n     default hidden behavior on the sphinx rendered scikit-learn.org.\n     See: https://github.com/scikit-learn/scikit-learn/issues/21755 */\n  display: inline-block !important;\n  position: relative;\n}\n\n#sk-container-id-11 div.sk-text-repr-fallback {\n  display: none;\n}\n\ndiv.sk-parallel-item,\ndiv.sk-serial,\ndiv.sk-item {\n  /* draw centered vertical line to link estimators */\n  background-image: linear-gradient(var(--sklearn-color-text-on-default-background), var(--sklearn-color-text-on-default-background));\n  background-size: 2px 100%;\n  background-repeat: no-repeat;\n  background-position: center center;\n}\n\n/* Parallel-specific style estimator block */\n\n#sk-container-id-11 div.sk-parallel-item::after {\n  content: \"\";\n  width: 100%;\n  border-bottom: 2px solid var(--sklearn-color-text-on-default-background);\n  flex-grow: 1;\n}\n\n#sk-container-id-11 div.sk-parallel {\n  display: flex;\n  align-items: stretch;\n  justify-content: center;\n  background-color: var(--sklearn-color-background);\n  position: relative;\n}\n\n#sk-container-id-11 div.sk-parallel-item {\n  display: flex;\n  flex-direction: column;\n}\n\n#sk-container-id-11 div.sk-parallel-item:first-child::after {\n  align-self: flex-end;\n  width: 50%;\n}\n\n#sk-container-id-11 div.sk-parallel-item:last-child::after {\n  align-self: flex-start;\n  width: 50%;\n}\n\n#sk-container-id-11 div.sk-parallel-item:only-child::after {\n  width: 0;\n}\n\n/* Serial-specific style estimator block */\n\n#sk-container-id-11 div.sk-serial {\n  display: flex;\n  flex-direction: column;\n  align-items: center;\n  background-color: var(--sklearn-color-background);\n  padding-right: 1em;\n  padding-left: 1em;\n}\n\n\n/* Toggleable style: style used for estimator/Pipeline/ColumnTransformer box that is\nclickable and can be expanded/collapsed.\n- Pipeline and ColumnTransformer use this feature and define the default style\n- Estimators will overwrite some part of the style using the `sk-estimator` class\n*/\n\n/* Pipeline and ColumnTransformer style (default) */\n\n#sk-container-id-11 div.sk-toggleable {\n  /* Default theme specific background. It is overwritten whether we have a\n  specific estimator or a Pipeline/ColumnTransformer */\n  background-color: var(--sklearn-color-background);\n}\n\n/* Toggleable label */\n#sk-container-id-11 label.sk-toggleable__label {\n  cursor: pointer;\n  display: block;\n  width: 100%;\n  margin-bottom: 0;\n  padding: 0.5em;\n  box-sizing: border-box;\n  text-align: center;\n}\n\n#sk-container-id-11 label.sk-toggleable__label-arrow:before {\n  /* Arrow on the left of the label */\n  content: \"▸\";\n  float: left;\n  margin-right: 0.25em;\n  color: var(--sklearn-color-icon);\n}\n\n#sk-container-id-11 label.sk-toggleable__label-arrow:hover:before {\n  color: var(--sklearn-color-text);\n}\n\n/* Toggleable content - dropdown */\n\n#sk-container-id-11 div.sk-toggleable__content {\n  max-height: 0;\n  max-width: 0;\n  overflow: hidden;\n  text-align: left;\n  /* unfitted */\n  background-color: var(--sklearn-color-unfitted-level-0);\n}\n\n#sk-container-id-11 div.sk-toggleable__content.fitted {\n  /* fitted */\n  background-color: var(--sklearn-color-fitted-level-0);\n}\n\n#sk-container-id-11 div.sk-toggleable__content pre {\n  margin: 0.2em;\n  border-radius: 0.25em;\n  color: var(--sklearn-color-text);\n  /* unfitted */\n  background-color: var(--sklearn-color-unfitted-level-0);\n}\n\n#sk-container-id-11 div.sk-toggleable__content.fitted pre {\n  /* unfitted */\n  background-color: var(--sklearn-color-fitted-level-0);\n}\n\n#sk-container-id-11 input.sk-toggleable__control:checked~div.sk-toggleable__content {\n  /* Expand drop-down */\n  max-height: 200px;\n  max-width: 100%;\n  overflow: auto;\n}\n\n#sk-container-id-11 input.sk-toggleable__control:checked~label.sk-toggleable__label-arrow:before {\n  content: \"▾\";\n}\n\n/* Pipeline/ColumnTransformer-specific style */\n\n#sk-container-id-11 div.sk-label input.sk-toggleable__control:checked~label.sk-toggleable__label {\n  color: var(--sklearn-color-text);\n  background-color: var(--sklearn-color-unfitted-level-2);\n}\n\n#sk-container-id-11 div.sk-label.fitted input.sk-toggleable__control:checked~label.sk-toggleable__label {\n  background-color: var(--sklearn-color-fitted-level-2);\n}\n\n/* Estimator-specific style */\n\n/* Colorize estimator box */\n#sk-container-id-11 div.sk-estimator input.sk-toggleable__control:checked~label.sk-toggleable__label {\n  /* unfitted */\n  background-color: var(--sklearn-color-unfitted-level-2);\n}\n\n#sk-container-id-11 div.sk-estimator.fitted input.sk-toggleable__control:checked~label.sk-toggleable__label {\n  /* fitted */\n  background-color: var(--sklearn-color-fitted-level-2);\n}\n\n#sk-container-id-11 div.sk-label label.sk-toggleable__label,\n#sk-container-id-11 div.sk-label label {\n  /* The background is the default theme color */\n  color: var(--sklearn-color-text-on-default-background);\n}\n\n/* On hover, darken the color of the background */\n#sk-container-id-11 div.sk-label:hover label.sk-toggleable__label {\n  color: var(--sklearn-color-text);\n  background-color: var(--sklearn-color-unfitted-level-2);\n}\n\n/* Label box, darken color on hover, fitted */\n#sk-container-id-11 div.sk-label.fitted:hover label.sk-toggleable__label.fitted {\n  color: var(--sklearn-color-text);\n  background-color: var(--sklearn-color-fitted-level-2);\n}\n\n/* Estimator label */\n\n#sk-container-id-11 div.sk-label label {\n  font-family: monospace;\n  font-weight: bold;\n  display: inline-block;\n  line-height: 1.2em;\n}\n\n#sk-container-id-11 div.sk-label-container {\n  text-align: center;\n}\n\n/* Estimator-specific */\n#sk-container-id-11 div.sk-estimator {\n  font-family: monospace;\n  border: 1px dotted var(--sklearn-color-border-box);\n  border-radius: 0.25em;\n  box-sizing: border-box;\n  margin-bottom: 0.5em;\n  /* unfitted */\n  background-color: var(--sklearn-color-unfitted-level-0);\n}\n\n#sk-container-id-11 div.sk-estimator.fitted {\n  /* fitted */\n  background-color: var(--sklearn-color-fitted-level-0);\n}\n\n/* on hover */\n#sk-container-id-11 div.sk-estimator:hover {\n  /* unfitted */\n  background-color: var(--sklearn-color-unfitted-level-2);\n}\n\n#sk-container-id-11 div.sk-estimator.fitted:hover {\n  /* fitted */\n  background-color: var(--sklearn-color-fitted-level-2);\n}\n\n/* Specification for estimator info (e.g. \"i\" and \"?\") */\n\n/* Common style for \"i\" and \"?\" */\n\n.sk-estimator-doc-link,\na:link.sk-estimator-doc-link,\na:visited.sk-estimator-doc-link {\n  float: right;\n  font-size: smaller;\n  line-height: 1em;\n  font-family: monospace;\n  background-color: var(--sklearn-color-background);\n  border-radius: 1em;\n  height: 1em;\n  width: 1em;\n  text-decoration: none !important;\n  margin-left: 1ex;\n  /* unfitted */\n  border: var(--sklearn-color-unfitted-level-1) 1pt solid;\n  color: var(--sklearn-color-unfitted-level-1);\n}\n\n.sk-estimator-doc-link.fitted,\na:link.sk-estimator-doc-link.fitted,\na:visited.sk-estimator-doc-link.fitted {\n  /* fitted */\n  border: var(--sklearn-color-fitted-level-1) 1pt solid;\n  color: var(--sklearn-color-fitted-level-1);\n}\n\n/* On hover */\ndiv.sk-estimator:hover .sk-estimator-doc-link:hover,\n.sk-estimator-doc-link:hover,\ndiv.sk-label-container:hover .sk-estimator-doc-link:hover,\n.sk-estimator-doc-link:hover {\n  /* unfitted */\n  background-color: var(--sklearn-color-unfitted-level-3);\n  color: var(--sklearn-color-background);\n  text-decoration: none;\n}\n\ndiv.sk-estimator.fitted:hover .sk-estimator-doc-link.fitted:hover,\n.sk-estimator-doc-link.fitted:hover,\ndiv.sk-label-container:hover .sk-estimator-doc-link.fitted:hover,\n.sk-estimator-doc-link.fitted:hover {\n  /* fitted */\n  background-color: var(--sklearn-color-fitted-level-3);\n  color: var(--sklearn-color-background);\n  text-decoration: none;\n}\n\n/* Span, style for the box shown on hovering the info icon */\n.sk-estimator-doc-link span {\n  display: none;\n  z-index: 9999;\n  position: relative;\n  font-weight: normal;\n  right: .2ex;\n  padding: .5ex;\n  margin: .5ex;\n  width: min-content;\n  min-width: 20ex;\n  max-width: 50ex;\n  color: var(--sklearn-color-text);\n  box-shadow: 2pt 2pt 4pt #999;\n  /* unfitted */\n  background: var(--sklearn-color-unfitted-level-0);\n  border: .5pt solid var(--sklearn-color-unfitted-level-3);\n}\n\n.sk-estimator-doc-link.fitted span {\n  /* fitted */\n  background: var(--sklearn-color-fitted-level-0);\n  border: var(--sklearn-color-fitted-level-3);\n}\n\n.sk-estimator-doc-link:hover span {\n  display: block;\n}\n\n/* \"?\"-specific style due to the `<a>` HTML tag */\n\n#sk-container-id-11 a.estimator_doc_link {\n  float: right;\n  font-size: 1rem;\n  line-height: 1em;\n  font-family: monospace;\n  background-color: var(--sklearn-color-background);\n  border-radius: 1rem;\n  height: 1rem;\n  width: 1rem;\n  text-decoration: none;\n  /* unfitted */\n  color: var(--sklearn-color-unfitted-level-1);\n  border: var(--sklearn-color-unfitted-level-1) 1pt solid;\n}\n\n#sk-container-id-11 a.estimator_doc_link.fitted {\n  /* fitted */\n  border: var(--sklearn-color-fitted-level-1) 1pt solid;\n  color: var(--sklearn-color-fitted-level-1);\n}\n\n/* On hover */\n#sk-container-id-11 a.estimator_doc_link:hover {\n  /* unfitted */\n  background-color: var(--sklearn-color-unfitted-level-3);\n  color: var(--sklearn-color-background);\n  text-decoration: none;\n}\n\n#sk-container-id-11 a.estimator_doc_link.fitted:hover {\n  /* fitted */\n  background-color: var(--sklearn-color-fitted-level-3);\n}\n</style><div id=\"sk-container-id-11\" class=\"sk-top-container\"><div class=\"sk-text-repr-fallback\"><pre>LinearRegression()</pre><b>In a Jupyter environment, please rerun this cell to show the HTML representation or trust the notebook. <br />On GitHub, the HTML representation is unable to render, please try loading this page with nbviewer.org.</b></div><div class=\"sk-container\" hidden><div class=\"sk-item\"><div class=\"sk-estimator fitted sk-toggleable\"><input class=\"sk-toggleable__control sk-hidden--visually\" id=\"sk-estimator-id-11\" type=\"checkbox\" checked><label for=\"sk-estimator-id-11\" class=\"sk-toggleable__label fitted sk-toggleable__label-arrow fitted\">&nbsp;&nbsp;LinearRegression<a class=\"sk-estimator-doc-link fitted\" rel=\"noreferrer\" target=\"_blank\" href=\"https://scikit-learn.org/1.5/modules/generated/sklearn.linear_model.LinearRegression.html\">?<span>Documentation for LinearRegression</span></a><span class=\"sk-estimator-doc-link fitted\">i<span>Fitted</span></span></label><div class=\"sk-toggleable__content fitted\"><pre>LinearRegression()</pre></div> </div></div></div></div>"
     },
     "execution_count": 150,
     "metadata": {},
     "output_type": "execute_result"
    }
   ],
   "source": [
    "# regr = LinearRegression()\n",
    "# regr.fit(xAxis, yAxis)\n",
    "\n",
    "regr_attack = LinearRegression()\n",
    "regr_attack.fit(xAxisAttack, yAxisAttack)\n",
    "\n",
    "regr_mid = LinearRegression()\n",
    "regr_mid.fit(xAxisMid, yAxisMid)\n",
    "\n",
    "regr_defend = LinearRegression()\n",
    "regr_defend.fit(xAxisDefend, yAxisDefend)\n",
    "\n",
    "regr_keeper = LinearRegression()\n",
    "regr_keeper.fit(xAxisGoalKeep, yAxisGoalKeep)\n",
    "\n"
   ]
  },
  {
   "cell_type": "code",
   "execution_count": 151,
   "metadata": {
    "colab": {
     "base_uri": "https://localhost:8080/"
    },
    "id": "gEWlbcS2GiAw",
    "outputId": "2d860be9-920f-42a6-abaa-9e00fc463358",
    "ExecuteTime": {
     "end_time": "2024-07-02T21:50:41.562689200Z",
     "start_time": "2024-07-02T21:50:41.466919200Z"
    }
   },
   "outputs": [
    {
     "name": "stdout",
     "output_type": "stream",
     "text": [
      "Attackers\n",
      "Intercept: \n",
      " [7864998.7925619]\n",
      "Coefficients: \n",
      " [[-2.55201869e+03 -3.15501274e+05 -6.72867156e+04  8.61089413e+05\n",
      "   1.50491141e+06  9.89538749e+04  3.27418093e-10 -1.74622983e-10\n",
      "   1.73801123e+03  3.26159891e+03 -4.05041555e+04 -3.83748484e+05\n",
      "   5.71070564e-01  0.00000000e+00 -5.46165202e+04]]\n",
      "------\n",
      "Mid\n",
      "Intercept: \n",
      " [5686671.61803558]\n",
      "Coefficients: \n",
      " [[ 1.75867749e+03 -2.49476964e+05 -6.79864116e+04  5.15849925e+05\n",
      "   8.81532381e+05  3.21729159e+05 -8.73114914e-11 -5.82076609e-11\n",
      "   1.42606952e+03  6.40851386e+03 -6.84024814e+04 -3.63805177e+05\n",
      "   6.45876476e-01  0.00000000e+00 -5.71079879e+04]]\n",
      "------\n",
      "Defend\n",
      "Intercept: \n",
      " [5760188.97489896]\n",
      "Coefficients: \n",
      " [[-3.37805819e+03 -2.10034078e+05 -5.51148336e+04  7.29928660e+05\n",
      "   6.79081429e+05  4.00386744e+04  4.29281499e-10 -1.16415322e-10\n",
      "   1.06435568e+03  5.09060162e+03 -5.55766515e+04 -2.40754082e+05\n",
      "   6.42062871e-01  0.00000000e+00 -1.82158749e+03]]\n",
      "------\n",
      "Keeper\n",
      "Intercept: \n",
      " [-1410826.92747693]\n",
      "Coefficients: \n",
      " [[ 1.84781193e+04 -6.90715161e+04 -2.06672685e+05 -4.05642266e+06\n",
      "  -1.29366526e-07  1.03517058e+05 -2.17438985e+05  2.58289779e+03\n",
      "   2.58216471e+03  2.43950810e+03 -3.62215165e+04 -1.65374707e+05\n",
      "   4.99973841e-01  0.00000000e+00  0.00000000e+00]]\n",
      "------\n"
     ]
    }
   ],
   "source": [
    "# print('Intercept: \\n', regr.intercept_)\n",
    "# print('Coefficients: \\n', regr.coef_)\n",
    "# print(\"------\")\n",
    "\n",
    "print(\"Attackers\")\n",
    "print('Intercept: \\n', regr_attack.intercept_)\n",
    "print('Coefficients: \\n', regr_attack.coef_)\n",
    "print(\"------\")\n",
    "\n",
    "print(\"Mid\")\n",
    "print('Intercept: \\n', regr_mid.intercept_)\n",
    "print('Coefficients: \\n', regr_mid.coef_)\n",
    "print(\"------\")\n",
    "\n",
    "print(\"Defend\")\n",
    "print('Intercept: \\n', regr_defend.intercept_)\n",
    "print('Coefficients: \\n', regr_defend.coef_)\n",
    "print(\"------\")\n",
    "\n",
    "print(\"Keeper\")\n",
    "print('Intercept: \\n', regr_keeper.intercept_)\n",
    "print('Coefficients: \\n', regr_keeper.coef_) \n",
    "print(\"------\")"
   ]
  },
  {
   "cell_type": "markdown",
   "metadata": {
    "id": "rMydhI9y8Eny"
   },
   "source": [
    "**Test the model with a newly created player**"
   ]
  },
  {
   "cell_type": "code",
   "execution_count": 152,
   "outputs": [
    {
     "name": "stdout",
     "output_type": "stream",
     "text": [
      "[7864998.7925619]\n"
     ]
    }
   ],
   "source": [
    "regr_attack.fit(xAxisAttack, yAxisAttack)\n",
    "regr_mid.fit(xAxisMid, yAxisMid)\n",
    "regr_defend.fit(xAxisDefend, yAxisDefend)\n",
    "regr_keeper.fit(xAxisGoalKeep, yAxisGoalKeep)\n",
    "\n",
    "print(regr_attack.intercept_)\n",
    "\n"
   ],
   "metadata": {
    "collapsed": false,
    "ExecuteTime": {
     "end_time": "2024-07-02T21:50:41.633122600Z",
     "start_time": "2024-07-02T21:50:41.482521Z"
    }
   }
  },
  {
   "cell_type": "code",
   "execution_count": 153,
   "metadata": {
    "colab": {
     "base_uri": "https://localhost:8080/"
    },
    "id": "N0qA_Om1Gujd",
    "outputId": "afbed1d1-86d7-416c-cf31-2f24e0abc66b",
    "ExecuteTime": {
     "end_time": "2024-07-02T21:50:41.634143Z",
     "start_time": "2024-07-02T21:50:41.514343900Z"
    }
   },
   "outputs": [
    {
     "name": "stdout",
     "output_type": "stream",
     "text": [
      "Attack\n",
      "Value: \n",
      " [[52553878.96797729]]\n",
      "Mid\n",
      "Value: \n",
      " [[49260885.61248494]]\n",
      "Defend\n",
      "Value: \n",
      " [[49165344.20349461]]\n",
      "Keeper\n",
      "Value: \n",
      " [[-16222237.2856457]]\n"
     ]
    },
    {
     "name": "stderr",
     "output_type": "stream",
     "text": [
      "C:\\Users\\90543\\PycharmProjects\\IE423\\venv\\lib\\site-packages\\sklearn\\base.py:493: UserWarning: X does not have valid feature names, but LinearRegression was fitted with feature names\n",
      "  warnings.warn(\n",
      "C:\\Users\\90543\\PycharmProjects\\IE423\\venv\\lib\\site-packages\\sklearn\\base.py:493: UserWarning: X does not have valid feature names, but LinearRegression was fitted with feature names\n",
      "  warnings.warn(\n",
      "C:\\Users\\90543\\PycharmProjects\\IE423\\venv\\lib\\site-packages\\sklearn\\base.py:493: UserWarning: X does not have valid feature names, but LinearRegression was fitted with feature names\n",
      "  warnings.warn(\n",
      "C:\\Users\\90543\\PycharmProjects\\IE423\\venv\\lib\\site-packages\\sklearn\\base.py:493: UserWarning: X does not have valid feature names, but LinearRegression was fitted with feature names\n",
      "  warnings.warn(\n"
     ]
    }
   ],
   "source": [
    "\n",
    "\n",
    "\n",
    "## We will create a player and then test for each data frame\n",
    "\n",
    "\n",
    "# dependent = ['height', 'age', 'appearance', 'goals', 'assists', 'yellow cards', 'goals conceded', 'clean sheets',\n",
    "#             'minutes played', 'days_injured', 'games_injured', 'award', 'highest_value', 'position_encoded', 'winger']\n",
    "\n",
    "# I will put Jaden Philogene Statistics to this\n",
    "# https://www.transfermarkt.com/jaden-philogene/leistungsdatenverein/spieler/665390\n",
    "\n",
    "newPlayer = [185, 28, 100, 10, 5, 3, 20, 12, 8000, 50, 5, 10, 60000000, 2, 0]\n",
    "\n",
    "predicted_value_attack = regr_attack.predict([newPlayer])\n",
    "predicted_value_mid = regr_mid.predict([newPlayer])\n",
    "predicted_value_defend = regr_defend.predict([newPlayer])\n",
    "predicted_value_keeper = regr_keeper.predict([newPlayer])\n",
    "\n",
    "print(\"Attack\")\n",
    "print(\"Value: \\n\", predicted_value_attack)\n",
    "\n",
    "print(\"Mid\")\n",
    "print(\"Value: \\n\", predicted_value_mid)\n",
    "\n",
    "print(\"Defend\")\n",
    "print(\"Value: \\n\", predicted_value_defend)\n",
    "\n",
    "print(\"Keeper\")\n",
    "print(\"Value: \\n\", predicted_value_keeper)\n"
   ]
  },
  {
   "cell_type": "markdown",
   "source": [],
   "metadata": {
    "collapsed": false
   }
  },
  {
   "cell_type": "code",
   "execution_count": 154,
   "metadata": {
    "colab": {
     "base_uri": "https://localhost:8080/",
     "height": 449
    },
    "id": "BZSy0rG4IpWK",
    "outputId": "3c79de75-4e0c-4e64-9ca2-a58db4fe7328",
    "ExecuteTime": {
     "end_time": "2024-07-02T21:50:41.747068100Z",
     "start_time": "2024-07-02T21:50:41.528391300Z"
    }
   },
   "outputs": [
    {
     "data": {
      "text/plain": "<Figure size 640x480 with 1 Axes>",
      "image/png": "[encoded data removed]"
     },
     "metadata": {},
     "output_type": "display_data"
    }
   ],
   "source": [
    "y = dfAttackers.loc[:, 'current_value']\n",
    "\n",
    "# Set histogram parameters\n",
    "binwidth = 10000000\n",
    "binrange = np.arange(min(y), max(y) + binwidth, binwidth)\n",
    "\n",
    "# Show plot\n",
    "plt.hist(y, bins=binrange)\n",
    "plt.xlabel('Current Value')\n",
    "plt.ylabel('Count')\n",
    "plt.show()"
   ]
  },
  {
   "cell_type": "code",
   "execution_count": 155,
   "metadata": {
    "colab": {
     "base_uri": "https://localhost:8080/",
     "height": 465
    },
    "id": "7TOvyIdEI_zV",
    "outputId": "a8e89145-f75a-440d-dede-2b549aa1712a",
    "ExecuteTime": {
     "end_time": "2024-07-02T21:50:41.908201600Z",
     "start_time": "2024-07-02T21:50:41.701357900Z"
    }
   },
   "outputs": [
    {
     "data": {
      "text/plain": "<Figure size 640x480 with 1 Axes>",
      "image/png": "[encoded data removed]"
     },
     "metadata": {},
     "output_type": "display_data"
    }
   ],
   "source": [
    "x = dfAttackers.loc[:, 'highest_value']\n",
    "y = dfAttackers.loc[:, 'current_value']\n",
    "\n",
    "# Generate trendline\n",
    "z = np.polyfit(x, y, 1)\n",
    "p = np.poly1d(z)\n",
    "\n",
    "# Show plot\n",
    "plt.scatter(x, y)\n",
    "plt.plot(x, p(x), \"r--\")\n",
    "plt.xlabel('Highest Value')\n",
    "plt.ylabel('Current Value')\n",
    "plt.show()"
   ]
  },
  {
   "cell_type": "code",
   "execution_count": 156,
   "metadata": {
    "colab": {
     "base_uri": "https://localhost:8080/",
     "height": 465
    },
    "id": "ShNQs0-OJIBC",
    "outputId": "16a170f8-b01c-4dae-8bf9-9a3c3325cbc9",
    "ExecuteTime": {
     "end_time": "2024-07-02T21:50:42.105297100Z",
     "start_time": "2024-07-02T21:50:41.904192600Z"
    }
   },
   "outputs": [
    {
     "data": {
      "text/plain": "<Figure size 640x480 with 1 Axes>",
      "image/png": "[encoded data removed]"
     },
     "metadata": {},
     "output_type": "display_data"
    }
   ],
   "source": [
    "# Scatterplot of current value vs. age\n",
    "# Set data fields\n",
    "x = dfAttackers.loc[:, 'age']\n",
    "y = dfAttackers.loc[:, 'current_value']\n",
    "\n",
    "# Generate trendline\n",
    "z = np.polyfit(x, y, 1)\n",
    "p = np.poly1d(z)\n",
    "\n",
    "# Show plot\n",
    "plt.scatter(x, y)\n",
    "plt.plot(x, p(x), \"r--\")\n",
    "plt.xlabel('Age')\n",
    "plt.ylabel('Current Value')\n",
    "plt.show()"
   ]
  }
 ],
 "metadata": {
  "colab": {
   "authorship_tag": "ABX9TyP+QigzSYJpn3ZRj/OBO3bI",
   "include_colab_link": true,
   "provenance": []
  },
  "kernelspec": {
   "name": "python3",
   "language": "python",
   "display_name": "Python 3 (ipykernel)"
  },
  "language_info": {
   "name": "python"
  }
 },
 "nbformat": 4,
 "nbformat_minor": 0
}
