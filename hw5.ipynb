{
 "cells": [
  {
   "cell_type": "code",
   "execution_count": 2,
   "id": "initial_id",
   "metadata": {
    "collapsed": true,
    "ExecuteTime": {
     "end_time": "2024-07-16T19:54:39.260502Z",
     "start_time": "2024-07-16T19:54:37.267948200Z"
    }
   },
   "outputs": [],
   "source": [
    "import pandas as pd\n",
    "import numpy as np\n",
    "import matplotlib.pyplot as plt\n",
    "import seaborn as sns\n",
    "\n",
    "from sklearn.preprocessing import scale\n",
    "from sklearn.model_selection import train_test_split\n",
    "from sklearn.metrics import classification_report"
   ]
  },
  {
   "cell_type": "markdown",
   "source": [
    "# Load Data"
   ],
   "metadata": {
    "collapsed": false
   },
   "id": "73ad94c391660809"
  },
  {
   "cell_type": "code",
   "execution_count": 3,
   "outputs": [
    {
     "data": {
      "text/plain": "   label  1x1  1x2  1x3  1x4  1x5  1x6  1x7  1x8  1x9  ...  28x19  28x20  \\\n0      9    0    0    0    0    0    0    0    0    0  ...      0      0   \n1      0    0    0    0    0    0    1    0    0    0  ...    119    114   \n2      0    0    0    0    0    0    0    0    0    0  ...      0      0   \n3      3    0    0    0    0    0    0    0    0   33  ...      0      0   \n4      0    0    0    0    0    0    0    0    0    0  ...      0      0   \n\n   28x21  28x22  28x23  28x24  28x25  28x26  28x27  28x28  \n0      0      0      0      0      0      0      0      0  \n1    130     76      0      0      0      0      0      0  \n2      1      0      0      0      0      0      0      0  \n3      0      0      0      0      0      0      0      0  \n4      0      0      0      0      0      0      0      0  \n\n[5 rows x 785 columns]",
      "text/html": "<div>\n<style scoped>\n    .dataframe tbody tr th:only-of-type {\n        vertical-align: middle;\n    }\n\n    .dataframe tbody tr th {\n        vertical-align: top;\n    }\n\n    .dataframe thead th {\n        text-align: right;\n    }\n</style>\n<table border=\"1\" class=\"dataframe\">\n  <thead>\n    <tr style=\"text-align: right;\">\n      <th></th>\n      <th>label</th>\n      <th>1x1</th>\n      <th>1x2</th>\n      <th>1x3</th>\n      <th>1x4</th>\n      <th>1x5</th>\n      <th>1x6</th>\n      <th>1x7</th>\n      <th>1x8</th>\n      <th>1x9</th>\n      <th>...</th>\n      <th>28x19</th>\n      <th>28x20</th>\n      <th>28x21</th>\n      <th>28x22</th>\n      <th>28x23</th>\n      <th>28x24</th>\n      <th>28x25</th>\n      <th>28x26</th>\n      <th>28x27</th>\n      <th>28x28</th>\n    </tr>\n  </thead>\n  <tbody>\n    <tr>\n      <th>0</th>\n      <td>9</td>\n      <td>0</td>\n      <td>0</td>\n      <td>0</td>\n      <td>0</td>\n      <td>0</td>\n      <td>0</td>\n      <td>0</td>\n      <td>0</td>\n      <td>0</td>\n      <td>...</td>\n      <td>0</td>\n      <td>0</td>\n      <td>0</td>\n      <td>0</td>\n      <td>0</td>\n      <td>0</td>\n      <td>0</td>\n      <td>0</td>\n      <td>0</td>\n      <td>0</td>\n    </tr>\n    <tr>\n      <th>1</th>\n      <td>0</td>\n      <td>0</td>\n      <td>0</td>\n      <td>0</td>\n      <td>0</td>\n      <td>0</td>\n      <td>1</td>\n      <td>0</td>\n      <td>0</td>\n      <td>0</td>\n      <td>...</td>\n      <td>119</td>\n      <td>114</td>\n      <td>130</td>\n      <td>76</td>\n      <td>0</td>\n      <td>0</td>\n      <td>0</td>\n      <td>0</td>\n      <td>0</td>\n      <td>0</td>\n    </tr>\n    <tr>\n      <th>2</th>\n      <td>0</td>\n      <td>0</td>\n      <td>0</td>\n      <td>0</td>\n      <td>0</td>\n      <td>0</td>\n      <td>0</td>\n      <td>0</td>\n      <td>0</td>\n      <td>0</td>\n      <td>...</td>\n      <td>0</td>\n      <td>0</td>\n      <td>1</td>\n      <td>0</td>\n      <td>0</td>\n      <td>0</td>\n      <td>0</td>\n      <td>0</td>\n      <td>0</td>\n      <td>0</td>\n    </tr>\n    <tr>\n      <th>3</th>\n      <td>3</td>\n      <td>0</td>\n      <td>0</td>\n      <td>0</td>\n      <td>0</td>\n      <td>0</td>\n      <td>0</td>\n      <td>0</td>\n      <td>0</td>\n      <td>33</td>\n      <td>...</td>\n      <td>0</td>\n      <td>0</td>\n      <td>0</td>\n      <td>0</td>\n      <td>0</td>\n      <td>0</td>\n      <td>0</td>\n      <td>0</td>\n      <td>0</td>\n      <td>0</td>\n    </tr>\n    <tr>\n      <th>4</th>\n      <td>0</td>\n      <td>0</td>\n      <td>0</td>\n      <td>0</td>\n      <td>0</td>\n      <td>0</td>\n      <td>0</td>\n      <td>0</td>\n      <td>0</td>\n      <td>0</td>\n      <td>...</td>\n      <td>0</td>\n      <td>0</td>\n      <td>0</td>\n      <td>0</td>\n      <td>0</td>\n      <td>0</td>\n      <td>0</td>\n      <td>0</td>\n      <td>0</td>\n      <td>0</td>\n    </tr>\n  </tbody>\n</table>\n<p>5 rows × 785 columns</p>\n</div>"
     },
     "execution_count": 3,
     "metadata": {},
     "output_type": "execute_result"
    }
   ],
   "source": [
    "dfTrain = pd.read_csv(\"mnist_fashion_train.csv\")\n",
    "dfTest = pd.read_csv(\"mnist_fashion_test.csv\")\n",
    "\n",
    "dfTrain.head()\n"
   ],
   "metadata": {
    "collapsed": false,
    "ExecuteTime": {
     "end_time": "2024-07-16T19:54:45.996105600Z",
     "start_time": "2024-07-16T19:54:40.876017500Z"
    }
   },
   "id": "eb014c7b2cea7b9e"
  },
  {
   "cell_type": "code",
   "execution_count": 4,
   "outputs": [
    {
     "data": {
      "text/plain": "              label           1x1           1x2           1x3           1x4  \\\ncount  60000.000000  60000.000000  60000.000000  60000.000000  60000.000000   \nmean       4.500000      0.000800      0.005783      0.030083      0.103800   \nstd        2.872305      0.092554      0.249033      0.767868      2.512017   \nmin        0.000000      0.000000      0.000000      0.000000      0.000000   \n25%        2.000000      0.000000      0.000000      0.000000      0.000000   \n50%        4.500000      0.000000      0.000000      0.000000      0.000000   \n75%        7.000000      0.000000      0.000000      0.000000      0.000000   \nmax        9.000000     16.000000     36.000000    119.000000    164.000000   \n\n                1x5           1x6           1x7           1x8           1x9  \\\ncount  60000.000000  60000.000000  60000.000000  60000.000000  60000.000000   \nmean       0.249683      0.414717      0.821667      2.224733      5.698667   \nstd        4.331376      5.827394      8.309935     14.201820     23.835980   \nmin        0.000000      0.000000      0.000000      0.000000      0.000000   \n25%        0.000000      0.000000      0.000000      0.000000      0.000000   \n50%        0.000000      0.000000      0.000000      0.000000      0.000000   \n75%        0.000000      0.000000      0.000000      0.000000      0.000000   \nmax      224.000000    230.000000    221.000000    221.000000    254.000000   \n\n       ...         28x19         28x20         28x21         28x22  \\\ncount  ...  60000.000000  60000.000000  60000.000000  60000.000000   \nmean   ...     34.564367     23.208633     16.576250     17.831967   \nstd    ...     57.557779     48.881430     42.044318     43.911297   \nmin    ...      0.000000      0.000000      0.000000      0.000000   \n25%    ...      0.000000      0.000000      0.000000      0.000000   \n50%    ...      0.000000      0.000000      0.000000      0.000000   \n75%    ...     57.000000      8.000000      0.000000      0.000000   \nmax    ...    255.000000    255.000000    255.000000    255.000000   \n\n              28x23         28x24         28x25         28x26         28x27  \\\ncount  60000.000000  60000.000000  60000.000000  60000.000000  60000.000000   \nmean      22.918850     17.916900      8.485717      2.706333      0.819000   \nstd       51.928401     45.173634     29.448614     17.258682      9.133252   \nmin        0.000000      0.000000      0.000000      0.000000      0.000000   \n25%        0.000000      0.000000      0.000000      0.000000      0.000000   \n50%        0.000000      0.000000      0.000000      0.000000      0.000000   \n75%        0.000000      0.000000      0.000000      0.000000      0.000000   \nmax      255.000000    255.000000    255.000000    255.000000    255.000000   \n\n              28x28  \ncount  60000.000000  \nmean       0.070883  \nstd        2.075829  \nmin        0.000000  \n25%        0.000000  \n50%        0.000000  \n75%        0.000000  \nmax      170.000000  \n\n[8 rows x 785 columns]",
      "text/html": "<div>\n<style scoped>\n    .dataframe tbody tr th:only-of-type {\n        vertical-align: middle;\n    }\n\n    .dataframe tbody tr th {\n        vertical-align: top;\n    }\n\n    .dataframe thead th {\n        text-align: right;\n    }\n</style>\n<table border=\"1\" class=\"dataframe\">\n  <thead>\n    <tr style=\"text-align: right;\">\n      <th></th>\n      <th>label</th>\n      <th>1x1</th>\n      <th>1x2</th>\n      <th>1x3</th>\n      <th>1x4</th>\n      <th>1x5</th>\n      <th>1x6</th>\n      <th>1x7</th>\n      <th>1x8</th>\n      <th>1x9</th>\n      <th>...</th>\n      <th>28x19</th>\n      <th>28x20</th>\n      <th>28x21</th>\n      <th>28x22</th>\n      <th>28x23</th>\n      <th>28x24</th>\n      <th>28x25</th>\n      <th>28x26</th>\n      <th>28x27</th>\n      <th>28x28</th>\n    </tr>\n  </thead>\n  <tbody>\n    <tr>\n      <th>count</th>\n      <td>60000.000000</td>\n      <td>60000.000000</td>\n      <td>60000.000000</td>\n      <td>60000.000000</td>\n      <td>60000.000000</td>\n      <td>60000.000000</td>\n      <td>60000.000000</td>\n      <td>60000.000000</td>\n      <td>60000.000000</td>\n      <td>60000.000000</td>\n      <td>...</td>\n      <td>60000.000000</td>\n      <td>60000.000000</td>\n      <td>60000.000000</td>\n      <td>60000.000000</td>\n      <td>60000.000000</td>\n      <td>60000.000000</td>\n      <td>60000.000000</td>\n      <td>60000.000000</td>\n      <td>60000.000000</td>\n      <td>60000.000000</td>\n    </tr>\n    <tr>\n      <th>mean</th>\n      <td>4.500000</td>\n      <td>0.000800</td>\n      <td>0.005783</td>\n      <td>0.030083</td>\n      <td>0.103800</td>\n      <td>0.249683</td>\n      <td>0.414717</td>\n      <td>0.821667</td>\n      <td>2.224733</td>\n      <td>5.698667</td>\n      <td>...</td>\n      <td>34.564367</td>\n      <td>23.208633</td>\n      <td>16.576250</td>\n      <td>17.831967</td>\n      <td>22.918850</td>\n      <td>17.916900</td>\n      <td>8.485717</td>\n      <td>2.706333</td>\n      <td>0.819000</td>\n      <td>0.070883</td>\n    </tr>\n    <tr>\n      <th>std</th>\n      <td>2.872305</td>\n      <td>0.092554</td>\n      <td>0.249033</td>\n      <td>0.767868</td>\n      <td>2.512017</td>\n      <td>4.331376</td>\n      <td>5.827394</td>\n      <td>8.309935</td>\n      <td>14.201820</td>\n      <td>23.835980</td>\n      <td>...</td>\n      <td>57.557779</td>\n      <td>48.881430</td>\n      <td>42.044318</td>\n      <td>43.911297</td>\n      <td>51.928401</td>\n      <td>45.173634</td>\n      <td>29.448614</td>\n      <td>17.258682</td>\n      <td>9.133252</td>\n      <td>2.075829</td>\n    </tr>\n    <tr>\n      <th>min</th>\n      <td>0.000000</td>\n      <td>0.000000</td>\n      <td>0.000000</td>\n      <td>0.000000</td>\n      <td>0.000000</td>\n      <td>0.000000</td>\n      <td>0.000000</td>\n      <td>0.000000</td>\n      <td>0.000000</td>\n      <td>0.000000</td>\n      <td>...</td>\n      <td>0.000000</td>\n      <td>0.000000</td>\n      <td>0.000000</td>\n      <td>0.000000</td>\n      <td>0.000000</td>\n      <td>0.000000</td>\n      <td>0.000000</td>\n      <td>0.000000</td>\n      <td>0.000000</td>\n      <td>0.000000</td>\n    </tr>\n    <tr>\n      <th>25%</th>\n      <td>2.000000</td>\n      <td>0.000000</td>\n      <td>0.000000</td>\n      <td>0.000000</td>\n      <td>0.000000</td>\n      <td>0.000000</td>\n      <td>0.000000</td>\n      <td>0.000000</td>\n      <td>0.000000</td>\n      <td>0.000000</td>\n      <td>...</td>\n      <td>0.000000</td>\n      <td>0.000000</td>\n      <td>0.000000</td>\n      <td>0.000000</td>\n      <td>0.000000</td>\n      <td>0.000000</td>\n      <td>0.000000</td>\n      <td>0.000000</td>\n      <td>0.000000</td>\n      <td>0.000000</td>\n    </tr>\n    <tr>\n      <th>50%</th>\n      <td>4.500000</td>\n      <td>0.000000</td>\n      <td>0.000000</td>\n      <td>0.000000</td>\n      <td>0.000000</td>\n      <td>0.000000</td>\n      <td>0.000000</td>\n      <td>0.000000</td>\n      <td>0.000000</td>\n      <td>0.000000</td>\n      <td>...</td>\n      <td>0.000000</td>\n      <td>0.000000</td>\n      <td>0.000000</td>\n      <td>0.000000</td>\n      <td>0.000000</td>\n      <td>0.000000</td>\n      <td>0.000000</td>\n      <td>0.000000</td>\n      <td>0.000000</td>\n      <td>0.000000</td>\n    </tr>\n    <tr>\n      <th>75%</th>\n      <td>7.000000</td>\n      <td>0.000000</td>\n      <td>0.000000</td>\n      <td>0.000000</td>\n      <td>0.000000</td>\n      <td>0.000000</td>\n      <td>0.000000</td>\n      <td>0.000000</td>\n      <td>0.000000</td>\n      <td>0.000000</td>\n      <td>...</td>\n      <td>57.000000</td>\n      <td>8.000000</td>\n      <td>0.000000</td>\n      <td>0.000000</td>\n      <td>0.000000</td>\n      <td>0.000000</td>\n      <td>0.000000</td>\n      <td>0.000000</td>\n      <td>0.000000</td>\n      <td>0.000000</td>\n    </tr>\n    <tr>\n      <th>max</th>\n      <td>9.000000</td>\n      <td>16.000000</td>\n      <td>36.000000</td>\n      <td>119.000000</td>\n      <td>164.000000</td>\n      <td>224.000000</td>\n      <td>230.000000</td>\n      <td>221.000000</td>\n      <td>221.000000</td>\n      <td>254.000000</td>\n      <td>...</td>\n      <td>255.000000</td>\n      <td>255.000000</td>\n      <td>255.000000</td>\n      <td>255.000000</td>\n      <td>255.000000</td>\n      <td>255.000000</td>\n      <td>255.000000</td>\n      <td>255.000000</td>\n      <td>255.000000</td>\n      <td>170.000000</td>\n    </tr>\n  </tbody>\n</table>\n<p>8 rows × 785 columns</p>\n</div>"
     },
     "execution_count": 4,
     "metadata": {},
     "output_type": "execute_result"
    }
   ],
   "source": [
    "dfTrain.describe()"
   ],
   "metadata": {
    "collapsed": false,
    "ExecuteTime": {
     "end_time": "2024-07-16T20:16:10.134350100Z",
     "start_time": "2024-07-16T20:16:07.354601500Z"
    }
   },
   "id": "3f6be81551413288"
  },
  {
   "cell_type": "markdown",
   "source": [
    "# Defining target and features"
   ],
   "metadata": {
    "collapsed": false
   },
   "id": "b0036592f82dfee"
  },
  {
   "cell_type": "code",
   "execution_count": null,
   "outputs": [],
   "source": [
    "y = dfTrain[\"label\"].ravel()\n",
    "X = scale(dfTrain.drop(['label'], axis=1))\n",
    "X_train, X_test, y_train, y_test = train_test_split(X, y, train_size=0.8, test_size=0.2, random_state=1)"
   ],
   "metadata": {
    "collapsed": false
   },
   "id": "793167fe6e2bdf80"
  },
  {
   "cell_type": "markdown",
   "source": [
    "# Example Plotting "
   ],
   "metadata": {
    "collapsed": false
   },
   "id": "1b7d02ecf77be03b"
  },
  {
   "cell_type": "code",
   "execution_count": 6,
   "outputs": [
    {
     "name": "stdout",
     "output_type": "stream",
     "text": [
      "Handwriting \t\t\t\t Label\n",
      "AxesImage(shape=(28, 28)) \t\t 9\n"
     ]
    },
    {
     "data": {
      "text/plain": "<Figure size 640x480 with 1 Axes>",
      "image/png": "[encoded data removed]"
     },
     "metadata": {},
     "output_type": "display_data"
    }
   ],
   "source": [
    "print('Handwriting', '\\t\\t\\t\\t', 'Label')\n",
    "print(plt.imshow(X[0].reshape((28,28))), '\\t\\t', y[0])"
   ],
   "metadata": {
    "collapsed": false,
    "ExecuteTime": {
     "end_time": "2024-07-16T20:35:55.367591200Z",
     "start_time": "2024-07-16T20:35:55.129301600Z"
    }
   },
   "id": "2dde3dcfeb53be97"
  },
  {
   "cell_type": "markdown",
   "source": [
    "# Using SVM to predict the clothes type"
   ],
   "metadata": {
    "collapsed": false
   },
   "id": "b063584349ba691a"
  },
  {
   "cell_type": "code",
   "execution_count": 8,
   "outputs": [
    {
     "name": "stdout",
     "output_type": "stream",
     "text": [
      "Classification Report (Support Vector Classifier):\n",
      "              precision    recall  f1-score   support\n",
      "\n",
      "           0       0.82      0.87      0.84      1166\n",
      "           1       0.99      0.98      0.98      1213\n",
      "           2       0.83      0.81      0.82      1232\n",
      "           3       0.88      0.90      0.89      1209\n",
      "           4       0.80      0.85      0.83      1159\n",
      "           5       0.97      0.95      0.96      1217\n",
      "           6       0.74      0.66      0.70      1178\n",
      "           7       0.93      0.96      0.95      1215\n",
      "           8       0.95      0.97      0.96      1178\n",
      "           9       0.96      0.94      0.95      1233\n",
      "\n",
      "    accuracy                           0.89     12000\n",
      "   macro avg       0.89      0.89      0.89     12000\n",
      "weighted avg       0.89      0.89      0.89     12000\n"
     ]
    }
   ],
   "source": [
    "from sklearn.svm import SVC\n",
    "\n",
    "mdlSvmClothes = SVC()\n",
    "mdlSvmClothes.fit(X_train, y_train)\n",
    "y_test_pred = mdlSvmClothes.predict(X_test)\n",
    "\n",
    "print ('Classification Report (Support Vector Classifier):')\n",
    "print (classification_report(y_test, y_test_pred))"
   ],
   "metadata": {
    "collapsed": false,
    "ExecuteTime": {
     "end_time": "2024-07-16T21:01:59.910522100Z",
     "start_time": "2024-07-16T20:55:46.476184300Z"
    }
   },
   "id": "75bb7018bf42f05b"
  },
  {
   "cell_type": "markdown",
   "source": [
    "This classification took 11 minutes for 10 different elements.\n",
    "\n",
    "Label\tDescription\n",
    "0\tT-shirt/top\n",
    "1\tTrouser\n",
    "2\tPullover\n",
    "3\tDress\n",
    "4\tCoat\n",
    "5\tSandal\n",
    "6\tShirt\n",
    "7\tSneaker\n",
    "8\tBag\n",
    "9\tAnkle boot"
   ],
   "metadata": {
    "collapsed": false
   },
   "id": "ed61954de4ee877e"
  },
  {
   "cell_type": "markdown",
   "source": [
    "# Neural Network"
   ],
   "metadata": {
    "collapsed": false
   },
   "id": "77fbceea0ab5dec3"
  },
  {
   "cell_type": "code",
   "execution_count": 9,
   "outputs": [
    {
     "name": "stdout",
     "output_type": "stream",
     "text": [
      "Classification Report (Neural Network):\n",
      "              precision    recall  f1-score   support\n",
      "\n",
      "           0       0.80      0.87      0.84      1166\n",
      "           1       0.99      0.98      0.98      1213\n",
      "           2       0.80      0.82      0.81      1232\n",
      "           3       0.88      0.88      0.88      1209\n",
      "           4       0.79      0.83      0.81      1159\n",
      "           5       0.96      0.95      0.96      1217\n",
      "           6       0.77      0.66      0.71      1178\n",
      "           7       0.94      0.94      0.94      1215\n",
      "           8       0.97      0.96      0.96      1178\n",
      "           9       0.94      0.96      0.95      1233\n",
      "\n",
      "    accuracy                           0.89     12000\n",
      "   macro avg       0.89      0.89      0.88     12000\n",
      "weighted avg       0.89      0.89      0.89     12000\n",
      "\n",
      "CPU times: total: 1min 29s\n",
      "Wall time: 2min 7s\n"
     ]
    }
   ],
   "source": [
    "%%time\n",
    "\n",
    "# Build Neural Network - Multi-Layer Perceptron\n",
    "from sklearn.neural_network import MLPClassifier\n",
    "mdlNncDgt = MLPClassifier()\n",
    "mdlNncDgt.fit(X_train, y_train)\n",
    "y_test_pred = mdlNncDgt.predict(X_test)\n",
    "\n",
    "print ('Classification Report (Neural Network):')\n",
    "print (classification_report(y_test, y_test_pred))"
   ],
   "metadata": {
    "collapsed": false,
    "ExecuteTime": {
     "end_time": "2024-07-16T21:25:00.086238400Z",
     "start_time": "2024-07-16T21:22:52.897714400Z"
    }
   },
   "id": "7fa6014fc4162d33"
  },
  {
   "cell_type": "markdown",
   "source": [
    "# Now we can test our model with completely not seen data \"mnist_fashion_train.csv\""
   ],
   "metadata": {
    "collapsed": false
   },
   "id": "153d4fc9864c1e4f"
  },
  {
   "cell_type": "code",
   "execution_count": 10,
   "outputs": [
    {
     "name": "stderr",
     "output_type": "stream",
     "text": [
      "C:\\Users\\90543\\AppData\\Local\\Temp\\ipykernel_19256\\3871678020.py:1: FutureWarning: Series.ravel is deprecated. The underlying array is already 1D, so ravel is not necessary.  Use `to_numpy()` for conversion to a numpy array instead.\n",
      "  y = dfTest[\"label\"].ravel()\n"
     ]
    },
    {
     "name": "stdout",
     "output_type": "stream",
     "text": [
      "Classification Report (Support Vector Classifier):\n",
      "              precision    recall  f1-score   support\n",
      "\n",
      "           0       0.79      0.86      0.82      1000\n",
      "           1       0.98      0.96      0.97      1000\n",
      "           2       0.77      0.81      0.79      1000\n",
      "           3       0.87      0.88      0.88      1000\n",
      "           4       0.80      0.80      0.80      1000\n",
      "           5       0.97      0.95      0.96      1000\n",
      "           6       0.73      0.64      0.68      1000\n",
      "           7       0.95      0.94      0.94      1000\n",
      "           8       0.96      0.96      0.96      1000\n",
      "           9       0.93      0.96      0.95      1000\n",
      "\n",
      "    accuracy                           0.88     10000\n",
      "   macro avg       0.88      0.88      0.87     10000\n",
      "weighted avg       0.88      0.88      0.87     10000\n"
     ]
    }
   ],
   "source": [
    "y = dfTest[\"label\"].ravel()\n",
    "X = scale(dfTest.drop(['label'], axis=1))\n",
    "#X_train, X_test, y_train, y_test = train_test_split(X, y, train_size=0.8, test_size=0.2, random_state=1)\n",
    "\n",
    "y_test_pred_new = mdlNncDgt.predict(X)\n",
    "\n",
    "print ('Classification Report (Support Vector Classifier):')\n",
    "print (classification_report(y, y_test_pred_new))"
   ],
   "metadata": {
    "collapsed": false,
    "ExecuteTime": {
     "end_time": "2024-07-16T21:28:41.428566800Z",
     "start_time": "2024-07-16T21:28:40.639188Z"
    }
   },
   "id": "dbec648d928c146b"
  },
  {
   "cell_type": "markdown",
   "source": [
    "# Deep Neural Network"
   ],
   "metadata": {
    "collapsed": false
   },
   "id": "f08a75ede4ff27b0"
  },
  {
   "cell_type": "code",
   "execution_count": 11,
   "outputs": [
    {
     "name": "stdout",
     "output_type": "stream",
     "text": [
      "Classification Report (Deep Neural Network):\n",
      "              precision    recall  f1-score   support\n",
      "\n",
      "           0       0.82      0.83      0.83      1166\n",
      "           1       0.98      0.98      0.98      1213\n",
      "           2       0.82      0.82      0.82      1232\n",
      "           3       0.91      0.87      0.89      1209\n",
      "           4       0.79      0.85      0.82      1159\n",
      "           5       0.95      0.96      0.96      1217\n",
      "           6       0.73      0.69      0.71      1178\n",
      "           7       0.96      0.92      0.94      1215\n",
      "           8       0.97      0.97      0.97      1178\n",
      "           9       0.93      0.96      0.95      1233\n",
      "\n",
      "    accuracy                           0.89     12000\n",
      "   macro avg       0.89      0.89      0.89     12000\n",
      "weighted avg       0.89      0.89      0.89     12000\n",
      "\n",
      "CPU times: total: 43.2 s\n",
      "Wall time: 1min 12s\n"
     ]
    }
   ],
   "source": [
    "%%time\n",
    "\n",
    "# Build Deep Neural Network - Additional Hidden Layers\n",
    "from sklearn.neural_network import MLPClassifier\n",
    "mdlDncDgt = MLPClassifier(hidden_layer_sizes=(100,100))\n",
    "mdlDncDgt.fit(X_train, y_train)\n",
    "y_test_pred = mdlDncDgt.predict(X_test)\n",
    "\n",
    "print ('Classification Report (Deep Neural Network):')\n",
    "print (classification_report(y_test, y_test_pred))"
   ],
   "metadata": {
    "collapsed": false,
    "ExecuteTime": {
     "end_time": "2024-07-16T21:31:06.270624Z",
     "start_time": "2024-07-16T21:29:53.788954300Z"
    }
   },
   "id": "d5a5535b6042eddd"
  }
 ],
 "metadata": {
  "kernelspec": {
   "display_name": "Python 3",
   "language": "python",
   "name": "python3"
  },
  "language_info": {
   "codemirror_mode": {
    "name": "ipython",
    "version": 2
   },
   "file_extension": ".py",
   "mimetype": "text/x-python",
   "name": "python",
   "nbconvert_exporter": "python",
   "pygments_lexer": "ipython2",
   "version": "2.7.6"
  }
 },
 "nbformat": 4,
 "nbformat_minor": 5
}
