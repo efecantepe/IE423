{
 "cells": [
  {
   "cell_type": "code",
   "execution_count": null,
   "id": "initial_id",
   "metadata": {
    "collapsed": true,
    "ExecuteTime": {
     "end_time": "2024-07-09T19:10:26.689127500Z",
     "start_time": "2024-07-09T19:10:26.685805900Z"
    }
   },
   "outputs": [],
   "source": [
    "import pandas as pd\n",
    "import numpy as np\n",
    "\n",
    "import sklearn\n",
    "from sklearn.model_selection import train_test_split\n",
    "from sklearn.metrics import mean_absolute_error\n",
    "\n",
    "import warnings\n",
    "warnings.simplefilter(action='ignore', category=FutureWarning)"
   ]
  },
  {
   "cell_type": "markdown",
   "source": [
    "## Load Data"
   ],
   "metadata": {
    "collapsed": false
   },
   "id": "1ed2463134f6defb"
  },
  {
   "cell_type": "code",
   "execution_count": null,
   "outputs": [],
   "source": [
    "from google.colab import drive\n",
    "\n",
    "drive.mount('/content/drive')\n",
    "df = pd.read_csv('/content/drive/train.csv')\n",
    "\n",
    "# df = pd.read_csv(\"train.csv\")\n",
    "# df.head()"
   ],
   "metadata": {
    "collapsed": false,
    "ExecuteTime": {
     "end_time": "2024-07-09T19:09:14.372212500Z",
     "start_time": "2024-07-09T19:09:14.366108900Z"
    }
   },
   "id": "79f30bc54f853236"
  },
  {
   "cell_type": "code",
   "execution_count": 48,
   "outputs": [],
   "source": [
    "y = df.loc[: ,[\"Purchase\"]] # Target\n",
    "x = df.drop([\"Purchase\"], axis=1) # Values"
   ],
   "metadata": {
    "collapsed": false,
    "ExecuteTime": {
     "end_time": "2024-07-09T19:12:44.441239100Z",
     "start_time": "2024-07-09T19:12:44.365425600Z"
    }
   },
   "id": "38cd07457e324fae"
  },
  {
   "cell_type": "markdown",
   "source": [
    "Print y"
   ],
   "metadata": {
    "collapsed": false
   },
   "id": "51ebe47704c8e6a3"
  },
  {
   "cell_type": "code",
   "execution_count": 42,
   "outputs": [
    {
     "data": {
      "text/plain": "array([[ 8370],\n       [15200],\n       [ 1422],\n       ...,\n       [  137],\n       [  365],\n       [  490]])"
     },
     "execution_count": 42,
     "metadata": {},
     "output_type": "execute_result"
    }
   ],
   "source": [
    "y"
   ],
   "metadata": {
    "collapsed": false,
    "ExecuteTime": {
     "end_time": "2024-07-09T19:10:35.033268500Z",
     "start_time": "2024-07-09T19:10:35.011949900Z"
    }
   },
   "id": "af2253c5a127ebd5"
  },
  {
   "cell_type": "markdown",
   "source": [
    "Print x"
   ],
   "metadata": {
    "collapsed": false
   },
   "id": "7da4e65f7ed1d27e"
  },
  {
   "cell_type": "code",
   "execution_count": 41,
   "outputs": [
    {
     "data": {
      "text/plain": "        User_ID Product_ID Gender    Age  Occupation City_Category  \\\n0       1000001  P00069042      F   0-17          10             A   \n1       1000001  P00248942      F   0-17          10             A   \n2       1000001  P00087842      F   0-17          10             A   \n3       1000001  P00085442      F   0-17          10             A   \n4       1000002  P00285442      M    55+          16             C   \n...         ...        ...    ...    ...         ...           ...   \n550063  1006033  P00372445      M  51-55          13             B   \n550064  1006035  P00375436      F  26-35           1             C   \n550065  1006036  P00375436      F  26-35          15             B   \n550066  1006038  P00375436      F    55+           1             C   \n550067  1006039  P00371644      F  46-50           0             B   \n\n       Stay_In_Current_City_Years  Marital_Status  Product_Category_1  \\\n0                               2               0                   3   \n1                               2               0                   1   \n2                               2               0                  12   \n3                               2               0                  12   \n4                              4+               0                   8   \n...                           ...             ...                 ...   \n550063                          1               1                  20   \n550064                          3               0                  20   \n550065                         4+               1                  20   \n550066                          2               0                  20   \n550067                         4+               1                  20   \n\n        Product_Category_2  Product_Category_3  \n0                      NaN                 NaN  \n1                      6.0                14.0  \n2                      NaN                 NaN  \n3                     14.0                 NaN  \n4                      NaN                 NaN  \n...                    ...                 ...  \n550063                 NaN                 NaN  \n550064                 NaN                 NaN  \n550065                 NaN                 NaN  \n550066                 NaN                 NaN  \n550067                 NaN                 NaN  \n\n[550068 rows x 11 columns]",
      "text/html": "<div>\n<style scoped>\n    .dataframe tbody tr th:only-of-type {\n        vertical-align: middle;\n    }\n\n    .dataframe tbody tr th {\n        vertical-align: top;\n    }\n\n    .dataframe thead th {\n        text-align: right;\n    }\n</style>\n<table border=\"1\" class=\"dataframe\">\n  <thead>\n    <tr style=\"text-align: right;\">\n      <th></th>\n      <th>User_ID</th>\n      <th>Product_ID</th>\n      <th>Gender</th>\n      <th>Age</th>\n      <th>Occupation</th>\n      <th>City_Category</th>\n      <th>Stay_In_Current_City_Years</th>\n      <th>Marital_Status</th>\n      <th>Product_Category_1</th>\n      <th>Product_Category_2</th>\n      <th>Product_Category_3</th>\n    </tr>\n  </thead>\n  <tbody>\n    <tr>\n      <th>0</th>\n      <td>1000001</td>\n      <td>P00069042</td>\n      <td>F</td>\n      <td>0-17</td>\n      <td>10</td>\n      <td>A</td>\n      <td>2</td>\n      <td>0</td>\n      <td>3</td>\n      <td>NaN</td>\n      <td>NaN</td>\n    </tr>\n    <tr>\n      <th>1</th>\n      <td>1000001</td>\n      <td>P00248942</td>\n      <td>F</td>\n      <td>0-17</td>\n      <td>10</td>\n      <td>A</td>\n      <td>2</td>\n      <td>0</td>\n      <td>1</td>\n      <td>6.0</td>\n      <td>14.0</td>\n    </tr>\n    <tr>\n      <th>2</th>\n      <td>1000001</td>\n      <td>P00087842</td>\n      <td>F</td>\n      <td>0-17</td>\n      <td>10</td>\n      <td>A</td>\n      <td>2</td>\n      <td>0</td>\n      <td>12</td>\n      <td>NaN</td>\n      <td>NaN</td>\n    </tr>\n    <tr>\n      <th>3</th>\n      <td>1000001</td>\n      <td>P00085442</td>\n      <td>F</td>\n      <td>0-17</td>\n      <td>10</td>\n      <td>A</td>\n      <td>2</td>\n      <td>0</td>\n      <td>12</td>\n      <td>14.0</td>\n      <td>NaN</td>\n    </tr>\n    <tr>\n      <th>4</th>\n      <td>1000002</td>\n      <td>P00285442</td>\n      <td>M</td>\n      <td>55+</td>\n      <td>16</td>\n      <td>C</td>\n      <td>4+</td>\n      <td>0</td>\n      <td>8</td>\n      <td>NaN</td>\n      <td>NaN</td>\n    </tr>\n    <tr>\n      <th>...</th>\n      <td>...</td>\n      <td>...</td>\n      <td>...</td>\n      <td>...</td>\n      <td>...</td>\n      <td>...</td>\n      <td>...</td>\n      <td>...</td>\n      <td>...</td>\n      <td>...</td>\n      <td>...</td>\n    </tr>\n    <tr>\n      <th>550063</th>\n      <td>1006033</td>\n      <td>P00372445</td>\n      <td>M</td>\n      <td>51-55</td>\n      <td>13</td>\n      <td>B</td>\n      <td>1</td>\n      <td>1</td>\n      <td>20</td>\n      <td>NaN</td>\n      <td>NaN</td>\n    </tr>\n    <tr>\n      <th>550064</th>\n      <td>1006035</td>\n      <td>P00375436</td>\n      <td>F</td>\n      <td>26-35</td>\n      <td>1</td>\n      <td>C</td>\n      <td>3</td>\n      <td>0</td>\n      <td>20</td>\n      <td>NaN</td>\n      <td>NaN</td>\n    </tr>\n    <tr>\n      <th>550065</th>\n      <td>1006036</td>\n      <td>P00375436</td>\n      <td>F</td>\n      <td>26-35</td>\n      <td>15</td>\n      <td>B</td>\n      <td>4+</td>\n      <td>1</td>\n      <td>20</td>\n      <td>NaN</td>\n      <td>NaN</td>\n    </tr>\n    <tr>\n      <th>550066</th>\n      <td>1006038</td>\n      <td>P00375436</td>\n      <td>F</td>\n      <td>55+</td>\n      <td>1</td>\n      <td>C</td>\n      <td>2</td>\n      <td>0</td>\n      <td>20</td>\n      <td>NaN</td>\n      <td>NaN</td>\n    </tr>\n    <tr>\n      <th>550067</th>\n      <td>1006039</td>\n      <td>P00371644</td>\n      <td>F</td>\n      <td>46-50</td>\n      <td>0</td>\n      <td>B</td>\n      <td>4+</td>\n      <td>1</td>\n      <td>20</td>\n      <td>NaN</td>\n      <td>NaN</td>\n    </tr>\n  </tbody>\n</table>\n<p>550068 rows × 11 columns</p>\n</div>"
     },
     "execution_count": 41,
     "metadata": {},
     "output_type": "execute_result"
    }
   ],
   "source": [
    "x"
   ],
   "metadata": {
    "collapsed": false,
    "ExecuteTime": {
     "end_time": "2024-07-09T19:10:32.700900800Z",
     "start_time": "2024-07-09T19:10:32.639248400Z"
    }
   },
   "id": "8120d64bfe8d31ff"
  },
  {
   "cell_type": "code",
   "execution_count": 63,
   "outputs": [],
   "source": [
    "\n",
    "x_train, x_test, y_train, y_test = train_test_split(x,y,train_size=0.8, test_size=0.2,random_state=1)\n",
    "\n",
    "from sklearn.ensemble import RandomForestRegressor\n",
    "\n",
    "# Function for building and scoring Random Forest models\n",
    "def get_random_forest_mae(X_trn, X_tst, y_trn, y_tst):\n",
    "        \n",
    "    y_trn = y_trn.ravel()\n",
    "    y_tst = y_tst.ravel()\n",
    "    \n",
    "    mdlRfsMlb = RandomForestRegressor(random_state=1)\n",
    "    mdlRfsMlb.fit(X_trn, y_trn)\n",
    "    y_tst_prd = mdlRfsMlb.predict(X_tst)\n",
    "    mae = mean_absolute_error(y_tst, y_tst_prd)\n",
    "    return (mae)\n"
   ],
   "metadata": {
    "collapsed": false,
    "ExecuteTime": {
     "end_time": "2024-07-09T19:16:36.311664400Z",
     "start_time": "2024-07-09T19:16:36.134986500Z"
    }
   },
   "id": "a132868d8a8a7e72"
  },
  {
   "cell_type": "markdown",
   "source": [
    "Building a model"
   ],
   "metadata": {
    "collapsed": false
   },
   "id": "cca1ad34e786e601"
  },
  {
   "cell_type": "markdown",
   "source": [
    "## In the above you can not build your models since they are elements non Numerical"
   ],
   "metadata": {
    "collapsed": false
   },
   "id": "5c12f7cabfb20c09"
  },
  {
   "cell_type": "markdown",
   "source": [
    "Extracting numerical features"
   ],
   "metadata": {
    "collapsed": false
   },
   "id": "eef8b8605592a59c"
  },
  {
   "cell_type": "code",
   "execution_count": 64,
   "outputs": [],
   "source": [
    "# Select numeric features\n",
    "cols_num = [col for col in x.columns if x[col].dtype in ['int64', 'float64']]\n",
    "Xnum = x[cols_num]\n",
    "\n",
    "# Split numeric features into training and test sets\n",
    "Xnum_train, Xnum_test, y_train, y_test = train_test_split(Xnum,y,train_size=0.8, test_size=0.2,random_state=1)"
   ],
   "metadata": {
    "collapsed": false,
    "ExecuteTime": {
     "end_time": "2024-07-09T19:16:39.082332800Z",
     "start_time": "2024-07-09T19:16:38.970328800Z"
    }
   },
   "id": "452097110ae7f12e"
  },
  {
   "cell_type": "code",
   "execution_count": 65,
   "outputs": [
    {
     "data": {
      "text/plain": "np.float64(2171.9411444677853)"
     },
     "execution_count": 65,
     "metadata": {},
     "output_type": "execute_result"
    }
   ],
   "source": [
    "get_random_forest_mae(Xnum_train, Xnum_test, y_train, y_test)"
   ],
   "metadata": {
    "collapsed": false,
    "ExecuteTime": {
     "end_time": "2024-07-09T19:19:47.457989500Z",
     "start_time": "2024-07-09T19:16:40.281073700Z"
    }
   },
   "id": "a78f465cfdc3100a"
  },
  {
   "cell_type": "markdown",
   "source": [
    "Checking the empty cells filling with imputation"
   ],
   "metadata": {
    "collapsed": false
   },
   "id": "adbcced1ba80dfea"
  },
  {
   "cell_type": "code",
   "execution_count": 67,
   "outputs": [
    {
     "name": "stdout",
     "output_type": "stream",
     "text": [
      "MAE from Approach 2 (Replace missing values with forward fill):\n",
      "2272.0102878011644\n"
     ]
    }
   ],
   "source": [
    "Xnum_train_repnull = Xnum_train.fillna(method = 'ffill')\n",
    "Xnum_test_repnull = Xnum_test.fillna(method = 'ffill')\n",
    "\n",
    "print('MAE from Approach 2 (Replace missing values with forward fill):')\n",
    "print(get_random_forest_mae(Xnum_train_repnull, Xnum_test_repnull, y_train, y_test))"
   ],
   "metadata": {
    "collapsed": false,
    "ExecuteTime": {
     "end_time": "2024-07-09T19:26:00.679595400Z",
     "start_time": "2024-07-09T19:22:19.669526400Z"
    }
   },
   "id": "bdf6bc42b27521e4"
  },
  {
   "cell_type": "code",
   "execution_count": 69,
   "outputs": [
    {
     "name": "stdout",
     "output_type": "stream",
     "text": [
      "MAE from Approach 2 (Replace missing values with mean):\n",
      "2193.456214200903\n"
     ]
    }
   ],
   "source": [
    "Xnum_train_repnull = Xnum_train.fillna(Xnum_train.mean())\n",
    "Xnum_test_repnull = Xnum_test.fillna(Xnum_train.mean())\n",
    "\n",
    "print('MAE from Approach 2 (Replace missing values with mean):')\n",
    "print(get_random_forest_mae(Xnum_train_repnull, Xnum_test_repnull, y_train, y_test))\n"
   ],
   "metadata": {
    "collapsed": false,
    "ExecuteTime": {
     "end_time": "2024-07-09T19:35:57.028774100Z",
     "start_time": "2024-07-09T19:32:50.124438500Z"
    }
   },
   "id": "a636646d78e20a73"
  },
  {
   "cell_type": "code",
   "execution_count": 71,
   "outputs": [],
   "source": [
    "x_train[cols_num]=Xnum_train_repnull[cols_num]\n",
    "x_test[cols_num]=Xnum_test_repnull[cols_num]"
   ],
   "metadata": {
    "collapsed": false,
    "ExecuteTime": {
     "end_time": "2024-07-09T19:36:04.619426Z",
     "start_time": "2024-07-09T19:36:04.570964500Z"
    }
   },
   "id": "561145ddbb6a6810"
  },
  {
   "cell_type": "markdown",
   "source": [],
   "metadata": {
    "collapsed": false
   },
   "id": "f6c2ba5b50f94f92"
  },
  {
   "cell_type": "markdown",
   "source": [
    "# For non-numeric values. I removed Product_ID since it is unnecessary for prediction   "
   ],
   "metadata": {
    "collapsed": false
   },
   "id": "47addc06847fd043"
  },
  {
   "cell_type": "code",
   "execution_count": 79,
   "outputs": [
    {
     "data": {
      "text/plain": "['Gender', 'Age', 'City_Category', 'Stay_In_Current_City_Years']"
     },
     "execution_count": 79,
     "metadata": {},
     "output_type": "execute_result"
    }
   ],
   "source": [
    "cols_obj = [col for col in x.columns if x[col].dtype == 'object']\n",
    "cols_obj.remove(\"Product_ID\")\n",
    "cols_obj\n"
   ],
   "metadata": {
    "collapsed": false,
    "ExecuteTime": {
     "end_time": "2024-07-09T20:07:55.462502200Z",
     "start_time": "2024-07-09T20:07:55.438323500Z"
    }
   },
   "id": "f67a2bd2dcf033da"
  },
  {
   "cell_type": "markdown",
   "source": [
    "# Label encoding"
   ],
   "metadata": {
    "collapsed": false
   },
   "id": "dd2a6198cfdecee7"
  },
  {
   "cell_type": "code",
   "execution_count": null,
   "outputs": [],
   "source": [
    "from sklearn.preprocessing import LabelEncoder\n",
    "\n",
    "Xle_train = x_train.copy()\n",
    "Xle_test = x_test.copy()    \n",
    "# Apply label encoder to each column with non-numeric data\n",
    "label_encoder = LabelEncoder()\n",
    "for col in cols_obj:\n",
    "    Xle_train[col] = label_encoder.fit_transform(x_train[col])\n",
    "    Xle_test[col] = label_encoder.transform(x_test[col])"
   ],
   "metadata": {
    "collapsed": false
   },
   "id": "4b16e0c3b02ffe4"
  },
  {
   "cell_type": "markdown",
   "source": [
    "Now we will take only the categorical values. For this code it is not necessary since after the removal of the product id remaining non-numerical values become categorical. Nevertheless;"
   ],
   "metadata": {
    "collapsed": false
   },
   "id": "81b0ec30cbc5d1b8"
  },
  {
   "cell_type": "code",
   "execution_count": 84,
   "outputs": [],
   "source": [
    "cols_cat = [col for col in x.columns if x[col].dtype == 'object' and x[col].nunique()<10]\n",
    "\n",
    "from sklearn.preprocessing import LabelEncoder\n",
    "\n",
    "Xle_train = x_train.copy()\n",
    "Xle_test = x_test.copy()    \n",
    "# Apply label encoder to each column with categorical data\n",
    "label_encoder = LabelEncoder()\n",
    "for col in cols_cat:\n",
    "    Xle_train[col] = label_encoder.fit_transform(x_train[col])\n",
    "    Xle_test[col] = label_encoder.transform(x_test[col])\n"
   ],
   "metadata": {
    "collapsed": false,
    "ExecuteTime": {
     "end_time": "2024-07-09T20:12:27.369479200Z",
     "start_time": "2024-07-09T20:12:26.636210300Z"
    }
   },
   "id": "85f905dd650bb621"
  },
  {
   "cell_type": "code",
   "execution_count": 85,
   "outputs": [
    {
     "name": "stdout",
     "output_type": "stream",
     "text": [
      "MAE from Label Encoding all Categorical columns:\n",
      "2154.210619732392\n"
     ]
    }
   ],
   "source": [
    "mae = get_random_forest_mae(Xle_train[cols_num + cols_cat], Xle_test[cols_num + cols_cat], y_train, y_test)\n",
    "print(\"MAE from Label Encoding all Categorical columns:\") \n",
    "print(mae)"
   ],
   "metadata": {
    "collapsed": false,
    "ExecuteTime": {
     "end_time": "2024-07-09T20:16:24.783655200Z",
     "start_time": "2024-07-09T20:12:40.218660300Z"
    }
   },
   "id": "594112335f3b4427"
  },
  {
   "cell_type": "markdown",
   "source": [
    "## Building Gradient Boosted Model"
   ],
   "metadata": {
    "collapsed": false
   },
   "id": "3196a79c06d06ab5"
  },
  {
   "cell_type": "code",
   "execution_count": 86,
   "outputs": [
    {
     "name": "stdout",
     "output_type": "stream",
     "text": [
      "MAE from default XGBoost model:\n",
      "2090.9818629360047\n"
     ]
    }
   ],
   "source": [
    "from xgboost import XGBRegressor\n",
    "\n",
    "#Build and score default Gradient Boosting Model\n",
    "mdlXgbMlb = XGBRegressor()\n",
    "mdlXgbMlb.fit(Xle_train[cols_num + cols_cat], y_train)\n",
    "y_test_pred = mdlXgbMlb.predict(Xle_test[cols_num + cols_cat])\n",
    "mae = mean_absolute_error(y_test_pred, y_test)\n",
    "\n",
    "print(\"MAE from default XGBoost model:\")\n",
    "print(mae)"
   ],
   "metadata": {
    "collapsed": false,
    "ExecuteTime": {
     "end_time": "2024-07-09T20:25:26.065255Z",
     "start_time": "2024-07-09T20:25:23.673537Z"
    }
   },
   "id": "d196f17bfed780b7"
  },
  {
   "cell_type": "code",
   "execution_count": 87,
   "outputs": [
    {
     "name": "stdout",
     "output_type": "stream",
     "text": [
      "MAE from tuned XGBoost model:\n",
      "2100.3951026451473\n"
     ]
    }
   ],
   "source": [
    "#Build and score a tuned Gradient Boosting Model\n",
    "mdlXgbMlb = XGBRegressor(n_estimators=5000, learning_rate=0.01, max_depth=5)\n",
    "mdlXgbMlb.fit(Xle_train[cols_num + cols_cat], y_train)\n",
    "y_test_pred = mdlXgbMlb.predict(Xle_test[cols_num + cols_cat])\n",
    "mae = mean_absolute_error(y_test_pred, y_test)\n",
    "\n",
    "print(\"MAE from tuned XGBoost model:\")\n",
    "print(mae)"
   ],
   "metadata": {
    "collapsed": false,
    "ExecuteTime": {
     "end_time": "2024-07-09T20:26:01.014006900Z",
     "start_time": "2024-07-09T20:25:28.422596400Z"
    }
   },
   "id": "61aafd2fc4ade5b9"
  },
  {
   "cell_type": "markdown",
   "source": [
    "# Takeways\n",
    "\n",
    "* Very simple data models only consist of numbers and floating models we do not need labeling\n",
    "* More the data complexity increases with non-numerical values we need to label and categorize them. Most important part of this is picking the columns with low granularity which means labeled data should not differentiate very much in the entries\n",
    "* For dealing with missing columns we simply filled with the mean value\n",
    "* After that we used Gradient Boosted Model which created lower MAE for the data"
   ],
   "metadata": {
    "collapsed": false
   },
   "id": "2fdff13483252487"
  }
 ],
 "metadata": {
  "kernelspec": {
   "display_name": "Python 3",
   "language": "python",
   "name": "python3"
  },
  "language_info": {
   "codemirror_mode": {
    "name": "ipython",
    "version": 2
   },
   "file_extension": ".py",
   "mimetype": "text/x-python",
   "name": "python",
   "nbconvert_exporter": "python",
   "pygments_lexer": "ipython2",
   "version": "2.7.6"
  }
 },
 "nbformat": 4,
 "nbformat_minor": 5
}
